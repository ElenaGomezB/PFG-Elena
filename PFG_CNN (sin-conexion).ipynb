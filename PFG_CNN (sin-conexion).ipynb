{
 "cells": [
  {
   "cell_type": "markdown",
   "metadata": {},
   "source": [
    "# Instalar librerias"
   ]
  },
  {
   "cell_type": "code",
   "execution_count": null,
   "metadata": {},
   "outputs": [],
   "source": [
    "!pip install tensorflow\n",
    "!pip install --upgrade tensorflow\n"
   ]
  },
  {
   "cell_type": "markdown",
   "metadata": {
    "id": "VHeIT2Dsfvg-"
   },
   "source": [
    "# Datos"
   ]
  },
  {
   "cell_type": "markdown",
   "metadata": {
    "id": "PVtmq-7lUepS"
   },
   "source": [
    "**Test**"
   ]
  },
  {
   "cell_type": "code",
   "execution_count": 1,
   "metadata": {
    "id": "oHLgFRC8kV3J"
   },
   "outputs": [
    {
     "name": "stdout",
     "output_type": "stream",
     "text": [
      "Archivo zip descomprimido exitosamente.\n"
     ]
    }
   ],
   "source": [
    "import zipfile\n",
    "\n",
    "# Ruta del archivo zip\n",
    "ruta_zip = 'datos-test.zip'\n",
    "\n",
    "# Carpeta de destino para la descompresión\n",
    "ruta_destino_test = 'datos_test/'\n",
    "\n",
    "# Descomprimir el archivo zip\n",
    "with zipfile.ZipFile(ruta_zip, 'r') as archivo_zip:\n",
    "    archivo_zip.extractall(ruta_destino_test)\n",
    "\n",
    "print(\"Archivo zip descomprimido exitosamente.\")"
   ]
  },
  {
   "cell_type": "markdown",
   "metadata": {
    "id": "-qTIkejUVE0L"
   },
   "source": [
    "**Validación**"
   ]
  },
  {
   "cell_type": "code",
   "execution_count": 2,
   "metadata": {
    "id": "fYDc35xDkiWr"
   },
   "outputs": [
    {
     "name": "stdout",
     "output_type": "stream",
     "text": [
      "Archivo zip descomprimido exitosamente.\n"
     ]
    }
   ],
   "source": [
    "import zipfile\n",
    "\n",
    "# Ruta del archivo zip\n",
    "ruta_zip = 'datos-validation.zip'\n",
    "\n",
    "# Carpeta de destino para la descompresión\n",
    "ruta_destino_validation = 'datos_validation/'\n",
    "\n",
    "# Descomprimir el archivo zip\n",
    "with zipfile.ZipFile(ruta_zip, 'r') as archivo_zip:\n",
    "    archivo_zip.extractall(ruta_destino_validation)\n",
    "\n",
    "print(\"Archivo zip descomprimido exitosamente.\")"
   ]
  },
  {
   "cell_type": "markdown",
   "metadata": {
    "id": "am8EzBqNVHCM"
   },
   "source": [
    "**Entrenamiento**"
   ]
  },
  {
   "cell_type": "code",
   "execution_count": 3,
   "metadata": {
    "id": "Z7lvLOEwkroO"
   },
   "outputs": [
    {
     "name": "stdout",
     "output_type": "stream",
     "text": [
      "Archivo zip descomprimido exitosamente.\n"
     ]
    }
   ],
   "source": [
    "import zipfile\n",
    "\n",
    "# Ruta del archivo zip\n",
    "ruta_zip = 'datos-train.zip'\n",
    "\n",
    "# Carpeta de destino para la descompresión\n",
    "ruta_destino_train = 'datos_train/'\n",
    "\n",
    "# Descomprimir el archivo zip\n",
    "with zipfile.ZipFile(ruta_zip, 'r') as archivo_zip:\n",
    "    archivo_zip.extractall(ruta_destino_train)\n",
    "\n",
    "print(\"Archivo zip descomprimido exitosamente.\")"
   ]
  },
  {
   "cell_type": "markdown",
   "metadata": {},
   "source": [
    "CONTEO"
   ]
  },
  {
   "cell_type": "code",
   "execution_count": 4,
   "metadata": {
    "id": "h1KaoP3gkKiP"
   },
   "outputs": [],
   "source": [
    "import os"
   ]
  },
  {
   "cell_type": "code",
   "execution_count": 5,
   "metadata": {
    "colab": {
     "base_uri": "https://localhost:8080/"
    },
    "id": "2nmFMpxsi0tU",
    "outputId": "a3b469b1-eb96-4ead-bcb8-24f7267fef16"
   },
   "outputs": [
    {
     "name": "stdout",
     "output_type": "stream",
     "text": [
      "Hay 38294 elementos en el directorio datos_train/\n",
      "Hay 8207 elementos en el directorio datos_validation/\n",
      "Hay 8205 elementos en el directorio datos_test/\n"
     ]
    }
   ],
   "source": [
    "# Ruta del directorio\n",
    "ruta_directorio_train = ruta_destino_train\n",
    "ruta_directorio_validation = ruta_destino_validation\n",
    "ruta_directorio_test = ruta_destino_test\n",
    "\n",
    "# Obtener lista de elementos en el directorio\n",
    "elementos = os.listdir(ruta_directorio_train)\n",
    "elementos2 = os.listdir(ruta_directorio_validation)\n",
    "elementos3 = os.listdir(ruta_directorio_test)\n",
    "\n",
    "# Contar número de elementos\n",
    "num_elementos = len(elementos)\n",
    "num_elementos2 = len(elementos2)\n",
    "num_elementos3 = len(elementos3)\n",
    "\n",
    "print(f\"Hay {num_elementos} elementos en el directorio {ruta_directorio_train}\")\n",
    "print(f\"Hay {num_elementos2} elementos en el directorio {ruta_directorio_validation}\")\n",
    "print(f\"Hay {num_elementos3} elementos en el directorio {ruta_directorio_test}\")"
   ]
  },
  {
   "cell_type": "markdown",
   "metadata": {
    "id": "ldbtpMbkirz1"
   },
   "source": [
    "**Datos csv**"
   ]
  },
  {
   "cell_type": "code",
   "execution_count": 6,
   "metadata": {
    "colab": {
     "base_uri": "https://localhost:8080/",
     "height": 427
    },
    "id": "ox_A8W3livHg",
    "outputId": "e4d3f853-6abc-4fac-8ef7-7e85305b46f0"
   },
   "outputs": [
    {
     "data": {
      "text/html": [
       "<div>\n",
       "<style scoped>\n",
       "    .dataframe tbody tr th:only-of-type {\n",
       "        vertical-align: middle;\n",
       "    }\n",
       "\n",
       "    .dataframe tbody tr th {\n",
       "        vertical-align: top;\n",
       "    }\n",
       "\n",
       "    .dataframe thead th {\n",
       "        text-align: right;\n",
       "    }\n",
       "</style>\n",
       "<table border=\"1\" class=\"dataframe\">\n",
       "  <thead>\n",
       "    <tr style=\"text-align: right;\">\n",
       "      <th></th>\n",
       "      <th>site_id</th>\n",
       "      <th>patient_id</th>\n",
       "      <th>image_id</th>\n",
       "      <th>laterality</th>\n",
       "      <th>view</th>\n",
       "      <th>age</th>\n",
       "      <th>cancer</th>\n",
       "      <th>biopsy</th>\n",
       "      <th>invasive</th>\n",
       "      <th>BIRADS</th>\n",
       "      <th>implant</th>\n",
       "      <th>density</th>\n",
       "      <th>machine_id</th>\n",
       "      <th>difficult_negative_case</th>\n",
       "      <th>image_zip</th>\n",
       "    </tr>\n",
       "  </thead>\n",
       "  <tbody>\n",
       "    <tr>\n",
       "      <th>0</th>\n",
       "      <td>2</td>\n",
       "      <td>10006</td>\n",
       "      <td>462822612</td>\n",
       "      <td>L</td>\n",
       "      <td>CC</td>\n",
       "      <td>61.0</td>\n",
       "      <td>0</td>\n",
       "      <td>0</td>\n",
       "      <td>0</td>\n",
       "      <td>NaN</td>\n",
       "      <td>0</td>\n",
       "      <td>NaN</td>\n",
       "      <td>29</td>\n",
       "      <td>False</td>\n",
       "      <td>10006_462822612.png</td>\n",
       "    </tr>\n",
       "    <tr>\n",
       "      <th>1</th>\n",
       "      <td>2</td>\n",
       "      <td>10006</td>\n",
       "      <td>1459541791</td>\n",
       "      <td>L</td>\n",
       "      <td>MLO</td>\n",
       "      <td>61.0</td>\n",
       "      <td>0</td>\n",
       "      <td>0</td>\n",
       "      <td>0</td>\n",
       "      <td>NaN</td>\n",
       "      <td>0</td>\n",
       "      <td>NaN</td>\n",
       "      <td>29</td>\n",
       "      <td>False</td>\n",
       "      <td>10006_1459541791.png</td>\n",
       "    </tr>\n",
       "    <tr>\n",
       "      <th>2</th>\n",
       "      <td>2</td>\n",
       "      <td>10006</td>\n",
       "      <td>1864590858</td>\n",
       "      <td>R</td>\n",
       "      <td>MLO</td>\n",
       "      <td>61.0</td>\n",
       "      <td>0</td>\n",
       "      <td>0</td>\n",
       "      <td>0</td>\n",
       "      <td>NaN</td>\n",
       "      <td>0</td>\n",
       "      <td>NaN</td>\n",
       "      <td>29</td>\n",
       "      <td>False</td>\n",
       "      <td>10006_1864590858.png</td>\n",
       "    </tr>\n",
       "    <tr>\n",
       "      <th>3</th>\n",
       "      <td>2</td>\n",
       "      <td>10006</td>\n",
       "      <td>1874946579</td>\n",
       "      <td>R</td>\n",
       "      <td>CC</td>\n",
       "      <td>61.0</td>\n",
       "      <td>0</td>\n",
       "      <td>0</td>\n",
       "      <td>0</td>\n",
       "      <td>NaN</td>\n",
       "      <td>0</td>\n",
       "      <td>NaN</td>\n",
       "      <td>29</td>\n",
       "      <td>False</td>\n",
       "      <td>10006_1874946579.png</td>\n",
       "    </tr>\n",
       "    <tr>\n",
       "      <th>4</th>\n",
       "      <td>2</td>\n",
       "      <td>10011</td>\n",
       "      <td>220375232</td>\n",
       "      <td>L</td>\n",
       "      <td>CC</td>\n",
       "      <td>55.0</td>\n",
       "      <td>0</td>\n",
       "      <td>0</td>\n",
       "      <td>0</td>\n",
       "      <td>0.0</td>\n",
       "      <td>0</td>\n",
       "      <td>NaN</td>\n",
       "      <td>21</td>\n",
       "      <td>True</td>\n",
       "      <td>10011_220375232.png</td>\n",
       "    </tr>\n",
       "    <tr>\n",
       "      <th>5</th>\n",
       "      <td>2</td>\n",
       "      <td>10011</td>\n",
       "      <td>270344397</td>\n",
       "      <td>L</td>\n",
       "      <td>MLO</td>\n",
       "      <td>55.0</td>\n",
       "      <td>0</td>\n",
       "      <td>0</td>\n",
       "      <td>0</td>\n",
       "      <td>0.0</td>\n",
       "      <td>0</td>\n",
       "      <td>NaN</td>\n",
       "      <td>21</td>\n",
       "      <td>True</td>\n",
       "      <td>10011_270344397.png</td>\n",
       "    </tr>\n",
       "    <tr>\n",
       "      <th>6</th>\n",
       "      <td>2</td>\n",
       "      <td>10011</td>\n",
       "      <td>541722628</td>\n",
       "      <td>R</td>\n",
       "      <td>CC</td>\n",
       "      <td>55.0</td>\n",
       "      <td>0</td>\n",
       "      <td>0</td>\n",
       "      <td>0</td>\n",
       "      <td>NaN</td>\n",
       "      <td>0</td>\n",
       "      <td>NaN</td>\n",
       "      <td>21</td>\n",
       "      <td>False</td>\n",
       "      <td>10011_541722628.png</td>\n",
       "    </tr>\n",
       "    <tr>\n",
       "      <th>7</th>\n",
       "      <td>2</td>\n",
       "      <td>10011</td>\n",
       "      <td>1031443799</td>\n",
       "      <td>R</td>\n",
       "      <td>MLO</td>\n",
       "      <td>55.0</td>\n",
       "      <td>0</td>\n",
       "      <td>0</td>\n",
       "      <td>0</td>\n",
       "      <td>NaN</td>\n",
       "      <td>0</td>\n",
       "      <td>NaN</td>\n",
       "      <td>21</td>\n",
       "      <td>False</td>\n",
       "      <td>10011_1031443799.png</td>\n",
       "    </tr>\n",
       "    <tr>\n",
       "      <th>8</th>\n",
       "      <td>2</td>\n",
       "      <td>10025</td>\n",
       "      <td>562340703</td>\n",
       "      <td>L</td>\n",
       "      <td>CC</td>\n",
       "      <td>75.0</td>\n",
       "      <td>0</td>\n",
       "      <td>0</td>\n",
       "      <td>0</td>\n",
       "      <td>NaN</td>\n",
       "      <td>0</td>\n",
       "      <td>NaN</td>\n",
       "      <td>29</td>\n",
       "      <td>False</td>\n",
       "      <td>10025_562340703.png</td>\n",
       "    </tr>\n",
       "    <tr>\n",
       "      <th>9</th>\n",
       "      <td>2</td>\n",
       "      <td>10025</td>\n",
       "      <td>1365269360</td>\n",
       "      <td>L</td>\n",
       "      <td>MLO</td>\n",
       "      <td>75.0</td>\n",
       "      <td>0</td>\n",
       "      <td>0</td>\n",
       "      <td>0</td>\n",
       "      <td>NaN</td>\n",
       "      <td>0</td>\n",
       "      <td>NaN</td>\n",
       "      <td>29</td>\n",
       "      <td>False</td>\n",
       "      <td>10025_1365269360.png</td>\n",
       "    </tr>\n",
       "  </tbody>\n",
       "</table>\n",
       "</div>"
      ],
      "text/plain": [
       "   site_id  patient_id    image_id laterality view   age  cancer  biopsy  \\\n",
       "0        2       10006   462822612          L   CC  61.0       0       0   \n",
       "1        2       10006  1459541791          L  MLO  61.0       0       0   \n",
       "2        2       10006  1864590858          R  MLO  61.0       0       0   \n",
       "3        2       10006  1874946579          R   CC  61.0       0       0   \n",
       "4        2       10011   220375232          L   CC  55.0       0       0   \n",
       "5        2       10011   270344397          L  MLO  55.0       0       0   \n",
       "6        2       10011   541722628          R   CC  55.0       0       0   \n",
       "7        2       10011  1031443799          R  MLO  55.0       0       0   \n",
       "8        2       10025   562340703          L   CC  75.0       0       0   \n",
       "9        2       10025  1365269360          L  MLO  75.0       0       0   \n",
       "\n",
       "   invasive  BIRADS  implant density  machine_id  difficult_negative_case  \\\n",
       "0         0     NaN        0     NaN          29                    False   \n",
       "1         0     NaN        0     NaN          29                    False   \n",
       "2         0     NaN        0     NaN          29                    False   \n",
       "3         0     NaN        0     NaN          29                    False   \n",
       "4         0     0.0        0     NaN          21                     True   \n",
       "5         0     0.0        0     NaN          21                     True   \n",
       "6         0     NaN        0     NaN          21                    False   \n",
       "7         0     NaN        0     NaN          21                    False   \n",
       "8         0     NaN        0     NaN          29                    False   \n",
       "9         0     NaN        0     NaN          29                    False   \n",
       "\n",
       "              image_zip  \n",
       "0   10006_462822612.png  \n",
       "1  10006_1459541791.png  \n",
       "2  10006_1864590858.png  \n",
       "3  10006_1874946579.png  \n",
       "4   10011_220375232.png  \n",
       "5   10011_270344397.png  \n",
       "6   10011_541722628.png  \n",
       "7  10011_1031443799.png  \n",
       "8   10025_562340703.png  \n",
       "9  10025_1365269360.png  "
      ]
     },
     "execution_count": 6,
     "metadata": {},
     "output_type": "execute_result"
    }
   ],
   "source": [
    "from tensorflow.keras.preprocessing.image import ImageDataGenerator\n",
    "import pandas as pd\n",
    "\n",
    "df = pd.read_csv('Datos_Breast_Cancer.csv', sep = ',', encoding = 'latin1')\n",
    "df.head(10)"
   ]
  },
  {
   "cell_type": "code",
   "execution_count": 7,
   "metadata": {
    "colab": {
     "base_uri": "https://localhost:8080/",
     "height": 488
    },
    "id": "Y2hkCJQtAuAt",
    "outputId": "351a39c2-cbf5-44ae-b9d1-45a64b0d05ad"
   },
   "outputs": [
    {
     "data": {
      "text/html": [
       "<div>\n",
       "<style scoped>\n",
       "    .dataframe tbody tr th:only-of-type {\n",
       "        vertical-align: middle;\n",
       "    }\n",
       "\n",
       "    .dataframe tbody tr th {\n",
       "        vertical-align: top;\n",
       "    }\n",
       "\n",
       "    .dataframe thead th {\n",
       "        text-align: right;\n",
       "    }\n",
       "</style>\n",
       "<table border=\"1\" class=\"dataframe\">\n",
       "  <thead>\n",
       "    <tr style=\"text-align: right;\">\n",
       "      <th></th>\n",
       "      <th>site_id</th>\n",
       "      <th>patient_id</th>\n",
       "      <th>image_id</th>\n",
       "      <th>laterality</th>\n",
       "      <th>view</th>\n",
       "      <th>age</th>\n",
       "      <th>cancer</th>\n",
       "      <th>biopsy</th>\n",
       "      <th>invasive</th>\n",
       "      <th>BIRADS</th>\n",
       "      <th>implant</th>\n",
       "      <th>density</th>\n",
       "      <th>machine_id</th>\n",
       "      <th>difficult_negative_case</th>\n",
       "      <th>image_zip</th>\n",
       "    </tr>\n",
       "  </thead>\n",
       "  <tbody>\n",
       "    <tr>\n",
       "      <th>0</th>\n",
       "      <td>2</td>\n",
       "      <td>10006</td>\n",
       "      <td>462822612</td>\n",
       "      <td>L</td>\n",
       "      <td>CC</td>\n",
       "      <td>61.0</td>\n",
       "      <td>0</td>\n",
       "      <td>0</td>\n",
       "      <td>0</td>\n",
       "      <td>NaN</td>\n",
       "      <td>0</td>\n",
       "      <td>NaN</td>\n",
       "      <td>29</td>\n",
       "      <td>False</td>\n",
       "      <td>10006_462822612.png</td>\n",
       "    </tr>\n",
       "    <tr>\n",
       "      <th>1</th>\n",
       "      <td>2</td>\n",
       "      <td>10006</td>\n",
       "      <td>1459541791</td>\n",
       "      <td>L</td>\n",
       "      <td>MLO</td>\n",
       "      <td>61.0</td>\n",
       "      <td>0</td>\n",
       "      <td>0</td>\n",
       "      <td>0</td>\n",
       "      <td>NaN</td>\n",
       "      <td>0</td>\n",
       "      <td>NaN</td>\n",
       "      <td>29</td>\n",
       "      <td>False</td>\n",
       "      <td>10006_1459541791.png</td>\n",
       "    </tr>\n",
       "    <tr>\n",
       "      <th>2</th>\n",
       "      <td>2</td>\n",
       "      <td>10006</td>\n",
       "      <td>1864590858</td>\n",
       "      <td>R</td>\n",
       "      <td>MLO</td>\n",
       "      <td>61.0</td>\n",
       "      <td>0</td>\n",
       "      <td>0</td>\n",
       "      <td>0</td>\n",
       "      <td>NaN</td>\n",
       "      <td>0</td>\n",
       "      <td>NaN</td>\n",
       "      <td>29</td>\n",
       "      <td>False</td>\n",
       "      <td>10006_1864590858.png</td>\n",
       "    </tr>\n",
       "    <tr>\n",
       "      <th>3</th>\n",
       "      <td>2</td>\n",
       "      <td>10006</td>\n",
       "      <td>1874946579</td>\n",
       "      <td>R</td>\n",
       "      <td>CC</td>\n",
       "      <td>61.0</td>\n",
       "      <td>0</td>\n",
       "      <td>0</td>\n",
       "      <td>0</td>\n",
       "      <td>NaN</td>\n",
       "      <td>0</td>\n",
       "      <td>NaN</td>\n",
       "      <td>29</td>\n",
       "      <td>False</td>\n",
       "      <td>10006_1874946579.png</td>\n",
       "    </tr>\n",
       "    <tr>\n",
       "      <th>4</th>\n",
       "      <td>2</td>\n",
       "      <td>10011</td>\n",
       "      <td>220375232</td>\n",
       "      <td>L</td>\n",
       "      <td>CC</td>\n",
       "      <td>55.0</td>\n",
       "      <td>0</td>\n",
       "      <td>0</td>\n",
       "      <td>0</td>\n",
       "      <td>0.0</td>\n",
       "      <td>0</td>\n",
       "      <td>NaN</td>\n",
       "      <td>21</td>\n",
       "      <td>True</td>\n",
       "      <td>10011_220375232.png</td>\n",
       "    </tr>\n",
       "    <tr>\n",
       "      <th>...</th>\n",
       "      <td>...</td>\n",
       "      <td>...</td>\n",
       "      <td>...</td>\n",
       "      <td>...</td>\n",
       "      <td>...</td>\n",
       "      <td>...</td>\n",
       "      <td>...</td>\n",
       "      <td>...</td>\n",
       "      <td>...</td>\n",
       "      <td>...</td>\n",
       "      <td>...</td>\n",
       "      <td>...</td>\n",
       "      <td>...</td>\n",
       "      <td>...</td>\n",
       "      <td>...</td>\n",
       "    </tr>\n",
       "    <tr>\n",
       "      <th>54701</th>\n",
       "      <td>1</td>\n",
       "      <td>9973</td>\n",
       "      <td>1729524723</td>\n",
       "      <td>R</td>\n",
       "      <td>MLO</td>\n",
       "      <td>43.0</td>\n",
       "      <td>0</td>\n",
       "      <td>0</td>\n",
       "      <td>0</td>\n",
       "      <td>1.0</td>\n",
       "      <td>0</td>\n",
       "      <td>C</td>\n",
       "      <td>49</td>\n",
       "      <td>False</td>\n",
       "      <td>9973_1729524723.png</td>\n",
       "    </tr>\n",
       "    <tr>\n",
       "      <th>54702</th>\n",
       "      <td>1</td>\n",
       "      <td>9989</td>\n",
       "      <td>63473691</td>\n",
       "      <td>L</td>\n",
       "      <td>MLO</td>\n",
       "      <td>60.0</td>\n",
       "      <td>0</td>\n",
       "      <td>0</td>\n",
       "      <td>0</td>\n",
       "      <td>NaN</td>\n",
       "      <td>0</td>\n",
       "      <td>C</td>\n",
       "      <td>216</td>\n",
       "      <td>False</td>\n",
       "      <td>9989_63473691.png</td>\n",
       "    </tr>\n",
       "    <tr>\n",
       "      <th>54703</th>\n",
       "      <td>1</td>\n",
       "      <td>9989</td>\n",
       "      <td>1078943060</td>\n",
       "      <td>L</td>\n",
       "      <td>CC</td>\n",
       "      <td>60.0</td>\n",
       "      <td>0</td>\n",
       "      <td>0</td>\n",
       "      <td>0</td>\n",
       "      <td>NaN</td>\n",
       "      <td>0</td>\n",
       "      <td>C</td>\n",
       "      <td>216</td>\n",
       "      <td>False</td>\n",
       "      <td>9989_1078943060.png</td>\n",
       "    </tr>\n",
       "    <tr>\n",
       "      <th>54704</th>\n",
       "      <td>1</td>\n",
       "      <td>9989</td>\n",
       "      <td>398038886</td>\n",
       "      <td>R</td>\n",
       "      <td>MLO</td>\n",
       "      <td>60.0</td>\n",
       "      <td>0</td>\n",
       "      <td>0</td>\n",
       "      <td>0</td>\n",
       "      <td>0.0</td>\n",
       "      <td>0</td>\n",
       "      <td>C</td>\n",
       "      <td>216</td>\n",
       "      <td>True</td>\n",
       "      <td>9989_398038886.png</td>\n",
       "    </tr>\n",
       "    <tr>\n",
       "      <th>54705</th>\n",
       "      <td>1</td>\n",
       "      <td>9989</td>\n",
       "      <td>439796429</td>\n",
       "      <td>R</td>\n",
       "      <td>CC</td>\n",
       "      <td>60.0</td>\n",
       "      <td>0</td>\n",
       "      <td>0</td>\n",
       "      <td>0</td>\n",
       "      <td>0.0</td>\n",
       "      <td>0</td>\n",
       "      <td>C</td>\n",
       "      <td>216</td>\n",
       "      <td>True</td>\n",
       "      <td>9989_439796429.png</td>\n",
       "    </tr>\n",
       "  </tbody>\n",
       "</table>\n",
       "<p>54706 rows × 15 columns</p>\n",
       "</div>"
      ],
      "text/plain": [
       "       site_id  patient_id    image_id laterality view   age  cancer  biopsy  \\\n",
       "0            2       10006   462822612          L   CC  61.0       0       0   \n",
       "1            2       10006  1459541791          L  MLO  61.0       0       0   \n",
       "2            2       10006  1864590858          R  MLO  61.0       0       0   \n",
       "3            2       10006  1874946579          R   CC  61.0       0       0   \n",
       "4            2       10011   220375232          L   CC  55.0       0       0   \n",
       "...        ...         ...         ...        ...  ...   ...     ...     ...   \n",
       "54701        1        9973  1729524723          R  MLO  43.0       0       0   \n",
       "54702        1        9989    63473691          L  MLO  60.0       0       0   \n",
       "54703        1        9989  1078943060          L   CC  60.0       0       0   \n",
       "54704        1        9989   398038886          R  MLO  60.0       0       0   \n",
       "54705        1        9989   439796429          R   CC  60.0       0       0   \n",
       "\n",
       "       invasive  BIRADS  implant density  machine_id  difficult_negative_case  \\\n",
       "0             0     NaN        0     NaN          29                    False   \n",
       "1             0     NaN        0     NaN          29                    False   \n",
       "2             0     NaN        0     NaN          29                    False   \n",
       "3             0     NaN        0     NaN          29                    False   \n",
       "4             0     0.0        0     NaN          21                     True   \n",
       "...         ...     ...      ...     ...         ...                      ...   \n",
       "54701         0     1.0        0       C          49                    False   \n",
       "54702         0     NaN        0       C         216                    False   \n",
       "54703         0     NaN        0       C         216                    False   \n",
       "54704         0     0.0        0       C         216                     True   \n",
       "54705         0     0.0        0       C         216                     True   \n",
       "\n",
       "                  image_zip  \n",
       "0       10006_462822612.png  \n",
       "1      10006_1459541791.png  \n",
       "2      10006_1864590858.png  \n",
       "3      10006_1874946579.png  \n",
       "4       10011_220375232.png  \n",
       "...                     ...  \n",
       "54701   9973_1729524723.png  \n",
       "54702     9989_63473691.png  \n",
       "54703   9989_1078943060.png  \n",
       "54704    9989_398038886.png  \n",
       "54705    9989_439796429.png  \n",
       "\n",
       "[54706 rows x 15 columns]"
      ]
     },
     "execution_count": 7,
     "metadata": {},
     "output_type": "execute_result"
    }
   ],
   "source": [
    "df"
   ]
  },
  {
   "cell_type": "code",
   "execution_count": 8,
   "metadata": {
    "colab": {
     "base_uri": "https://localhost:8080/",
     "height": 720
    },
    "id": "5H_K6lplmoAX",
    "outputId": "056b9ac2-7a2f-481c-8296-0c6b66712815"
   },
   "outputs": [
    {
     "name": "stdout",
     "output_type": "stream",
     "text": [
      "(512, 512)\n"
     ]
    },
    {
     "data": {
      "image/png": "[encoded data removed]",
      "text/plain": [
       "<Figure size 432x288 with 1 Axes>"
      ]
     },
     "metadata": {
      "needs_background": "light"
     },
     "output_type": "display_data"
    },
    {
     "name": "stdout",
     "output_type": "stream",
     "text": [
      "(512, 512)\n"
     ]
    },
    {
     "data": {
      "image/png": "[encoded data removed]",
      "text/plain": [
       "<Figure size 432x288 with 1 Axes>"
      ]
     },
     "metadata": {
      "needs_background": "light"
     },
     "output_type": "display_data"
    },
    {
     "name": "stdout",
     "output_type": "stream",
     "text": [
      "(512, 512)\n"
     ]
    },
    {
     "data": {
      "image/png": "[encoded data removed]",
      "text/plain": [
       "<Figure size 432x288 with 1 Axes>"
      ]
     },
     "metadata": {
      "needs_background": "light"
     },
     "output_type": "display_data"
    }
   ],
   "source": [
    "import os\n",
    "import matplotlib.pyplot as plt\n",
    "from PIL import Image\n",
    "\n",
    "# Ruta del directorio donde se encuentran las imágenes\n",
    "path = ruta_directorio_train\n",
    "\n",
    "# Obtener la lista de archivos en el directorio\n",
    "files = os.listdir(path)\n",
    "files_prueba = files[:3]\n",
    "\n",
    "# Mostrar cada imagen en una figura de matplotlib\n",
    "for file in files_prueba:\n",
    "    img_path = os.path.join(path, file)\n",
    "    img = Image.open(img_path)\n",
    "    plt.subplot(2,2,2)\n",
    "    print(img.size)\n",
    "    plt.imshow(img)\n",
    "    plt.show()"
   ]
  },
  {
   "cell_type": "code",
   "execution_count": 9,
   "metadata": {
    "colab": {
     "base_uri": "https://localhost:8080/"
    },
    "id": "x0Js8AjtOvrL",
    "outputId": "e2962ab3-3333-4056-e025-276c6c783710"
   },
   "outputs": [
    {
     "data": {
      "text/plain": [
       "['10006_1459541791.png', '10006_1864590858.png', '10006_1874946579.png']"
      ]
     },
     "execution_count": 9,
     "metadata": {},
     "output_type": "execute_result"
    }
   ],
   "source": [
    "files_prueba"
   ]
  },
  {
   "cell_type": "markdown",
   "metadata": {
    "id": "cadkgGuv9GUq"
   },
   "source": [
    "# GENERADORES"
   ]
  },
  {
   "cell_type": "code",
   "execution_count": 10,
   "metadata": {
    "id": "3GAZWEJZoLGp"
   },
   "outputs": [],
   "source": [
    "df['cancer'] = df['cancer'].astype(str)"
   ]
  },
  {
   "cell_type": "code",
   "execution_count": 11,
   "metadata": {
    "colab": {
     "base_uri": "https://localhost:8080/",
     "height": 488
    },
    "id": "5_PZtXCuUaeO",
    "outputId": "d7b945db-f385-4dd6-8226-b1ee0c47c5e1"
   },
   "outputs": [
    {
     "data": {
      "text/html": [
       "<div>\n",
       "<style scoped>\n",
       "    .dataframe tbody tr th:only-of-type {\n",
       "        vertical-align: middle;\n",
       "    }\n",
       "\n",
       "    .dataframe tbody tr th {\n",
       "        vertical-align: top;\n",
       "    }\n",
       "\n",
       "    .dataframe thead th {\n",
       "        text-align: right;\n",
       "    }\n",
       "</style>\n",
       "<table border=\"1\" class=\"dataframe\">\n",
       "  <thead>\n",
       "    <tr style=\"text-align: right;\">\n",
       "      <th></th>\n",
       "      <th>site_id</th>\n",
       "      <th>patient_id</th>\n",
       "      <th>image_id</th>\n",
       "      <th>laterality</th>\n",
       "      <th>view</th>\n",
       "      <th>age</th>\n",
       "      <th>cancer</th>\n",
       "      <th>biopsy</th>\n",
       "      <th>invasive</th>\n",
       "      <th>BIRADS</th>\n",
       "      <th>implant</th>\n",
       "      <th>density</th>\n",
       "      <th>machine_id</th>\n",
       "      <th>difficult_negative_case</th>\n",
       "      <th>image_zip</th>\n",
       "    </tr>\n",
       "  </thead>\n",
       "  <tbody>\n",
       "    <tr>\n",
       "      <th>0</th>\n",
       "      <td>2</td>\n",
       "      <td>10006</td>\n",
       "      <td>462822612</td>\n",
       "      <td>L</td>\n",
       "      <td>CC</td>\n",
       "      <td>61.0</td>\n",
       "      <td>0</td>\n",
       "      <td>0</td>\n",
       "      <td>0</td>\n",
       "      <td>NaN</td>\n",
       "      <td>0</td>\n",
       "      <td>NaN</td>\n",
       "      <td>29</td>\n",
       "      <td>False</td>\n",
       "      <td>10006_462822612.png</td>\n",
       "    </tr>\n",
       "    <tr>\n",
       "      <th>1</th>\n",
       "      <td>2</td>\n",
       "      <td>10006</td>\n",
       "      <td>1459541791</td>\n",
       "      <td>L</td>\n",
       "      <td>MLO</td>\n",
       "      <td>61.0</td>\n",
       "      <td>0</td>\n",
       "      <td>0</td>\n",
       "      <td>0</td>\n",
       "      <td>NaN</td>\n",
       "      <td>0</td>\n",
       "      <td>NaN</td>\n",
       "      <td>29</td>\n",
       "      <td>False</td>\n",
       "      <td>10006_1459541791.png</td>\n",
       "    </tr>\n",
       "    <tr>\n",
       "      <th>2</th>\n",
       "      <td>2</td>\n",
       "      <td>10006</td>\n",
       "      <td>1864590858</td>\n",
       "      <td>R</td>\n",
       "      <td>MLO</td>\n",
       "      <td>61.0</td>\n",
       "      <td>0</td>\n",
       "      <td>0</td>\n",
       "      <td>0</td>\n",
       "      <td>NaN</td>\n",
       "      <td>0</td>\n",
       "      <td>NaN</td>\n",
       "      <td>29</td>\n",
       "      <td>False</td>\n",
       "      <td>10006_1864590858.png</td>\n",
       "    </tr>\n",
       "    <tr>\n",
       "      <th>3</th>\n",
       "      <td>2</td>\n",
       "      <td>10006</td>\n",
       "      <td>1874946579</td>\n",
       "      <td>R</td>\n",
       "      <td>CC</td>\n",
       "      <td>61.0</td>\n",
       "      <td>0</td>\n",
       "      <td>0</td>\n",
       "      <td>0</td>\n",
       "      <td>NaN</td>\n",
       "      <td>0</td>\n",
       "      <td>NaN</td>\n",
       "      <td>29</td>\n",
       "      <td>False</td>\n",
       "      <td>10006_1874946579.png</td>\n",
       "    </tr>\n",
       "    <tr>\n",
       "      <th>4</th>\n",
       "      <td>2</td>\n",
       "      <td>10011</td>\n",
       "      <td>220375232</td>\n",
       "      <td>L</td>\n",
       "      <td>CC</td>\n",
       "      <td>55.0</td>\n",
       "      <td>0</td>\n",
       "      <td>0</td>\n",
       "      <td>0</td>\n",
       "      <td>0.0</td>\n",
       "      <td>0</td>\n",
       "      <td>NaN</td>\n",
       "      <td>21</td>\n",
       "      <td>True</td>\n",
       "      <td>10011_220375232.png</td>\n",
       "    </tr>\n",
       "    <tr>\n",
       "      <th>...</th>\n",
       "      <td>...</td>\n",
       "      <td>...</td>\n",
       "      <td>...</td>\n",
       "      <td>...</td>\n",
       "      <td>...</td>\n",
       "      <td>...</td>\n",
       "      <td>...</td>\n",
       "      <td>...</td>\n",
       "      <td>...</td>\n",
       "      <td>...</td>\n",
       "      <td>...</td>\n",
       "      <td>...</td>\n",
       "      <td>...</td>\n",
       "      <td>...</td>\n",
       "      <td>...</td>\n",
       "    </tr>\n",
       "    <tr>\n",
       "      <th>38294</th>\n",
       "      <td>1</td>\n",
       "      <td>51091</td>\n",
       "      <td>396011329</td>\n",
       "      <td>R</td>\n",
       "      <td>CC</td>\n",
       "      <td>66.0</td>\n",
       "      <td>0</td>\n",
       "      <td>0</td>\n",
       "      <td>0</td>\n",
       "      <td>1.0</td>\n",
       "      <td>0</td>\n",
       "      <td>C</td>\n",
       "      <td>93</td>\n",
       "      <td>False</td>\n",
       "      <td>51091_396011329.png</td>\n",
       "    </tr>\n",
       "    <tr>\n",
       "      <th>38295</th>\n",
       "      <td>1</td>\n",
       "      <td>51091</td>\n",
       "      <td>1357908885</td>\n",
       "      <td>R</td>\n",
       "      <td>MLO</td>\n",
       "      <td>66.0</td>\n",
       "      <td>0</td>\n",
       "      <td>0</td>\n",
       "      <td>0</td>\n",
       "      <td>1.0</td>\n",
       "      <td>0</td>\n",
       "      <td>C</td>\n",
       "      <td>93</td>\n",
       "      <td>False</td>\n",
       "      <td>51091_1357908885.png</td>\n",
       "    </tr>\n",
       "    <tr>\n",
       "      <th>38296</th>\n",
       "      <td>1</td>\n",
       "      <td>51091</td>\n",
       "      <td>1825223741</td>\n",
       "      <td>R</td>\n",
       "      <td>MLO</td>\n",
       "      <td>66.0</td>\n",
       "      <td>0</td>\n",
       "      <td>0</td>\n",
       "      <td>0</td>\n",
       "      <td>1.0</td>\n",
       "      <td>0</td>\n",
       "      <td>C</td>\n",
       "      <td>93</td>\n",
       "      <td>False</td>\n",
       "      <td>51091_1825223741.png</td>\n",
       "    </tr>\n",
       "    <tr>\n",
       "      <th>38422</th>\n",
       "      <td>2</td>\n",
       "      <td>51276</td>\n",
       "      <td>711908647</td>\n",
       "      <td>L</td>\n",
       "      <td>MLO</td>\n",
       "      <td>54.0</td>\n",
       "      <td>1</td>\n",
       "      <td>1</td>\n",
       "      <td>0</td>\n",
       "      <td>NaN</td>\n",
       "      <td>0</td>\n",
       "      <td>NaN</td>\n",
       "      <td>21</td>\n",
       "      <td>False</td>\n",
       "      <td>51276_711908647.png</td>\n",
       "    </tr>\n",
       "    <tr>\n",
       "      <th>38423</th>\n",
       "      <td>2</td>\n",
       "      <td>51276</td>\n",
       "      <td>1416534699</td>\n",
       "      <td>L</td>\n",
       "      <td>CC</td>\n",
       "      <td>54.0</td>\n",
       "      <td>1</td>\n",
       "      <td>1</td>\n",
       "      <td>0</td>\n",
       "      <td>NaN</td>\n",
       "      <td>0</td>\n",
       "      <td>NaN</td>\n",
       "      <td>21</td>\n",
       "      <td>False</td>\n",
       "      <td>51276_1416534699.png</td>\n",
       "    </tr>\n",
       "  </tbody>\n",
       "</table>\n",
       "<p>38294 rows × 15 columns</p>\n",
       "</div>"
      ],
      "text/plain": [
       "       site_id  patient_id    image_id laterality view   age cancer  biopsy  \\\n",
       "0            2       10006   462822612          L   CC  61.0      0       0   \n",
       "1            2       10006  1459541791          L  MLO  61.0      0       0   \n",
       "2            2       10006  1864590858          R  MLO  61.0      0       0   \n",
       "3            2       10006  1874946579          R   CC  61.0      0       0   \n",
       "4            2       10011   220375232          L   CC  55.0      0       0   \n",
       "...        ...         ...         ...        ...  ...   ...    ...     ...   \n",
       "38294        1       51091   396011329          R   CC  66.0      0       0   \n",
       "38295        1       51091  1357908885          R  MLO  66.0      0       0   \n",
       "38296        1       51091  1825223741          R  MLO  66.0      0       0   \n",
       "38422        2       51276   711908647          L  MLO  54.0      1       1   \n",
       "38423        2       51276  1416534699          L   CC  54.0      1       1   \n",
       "\n",
       "       invasive  BIRADS  implant density  machine_id  difficult_negative_case  \\\n",
       "0             0     NaN        0     NaN          29                    False   \n",
       "1             0     NaN        0     NaN          29                    False   \n",
       "2             0     NaN        0     NaN          29                    False   \n",
       "3             0     NaN        0     NaN          29                    False   \n",
       "4             0     0.0        0     NaN          21                     True   \n",
       "...         ...     ...      ...     ...         ...                      ...   \n",
       "38294         0     1.0        0       C          93                    False   \n",
       "38295         0     1.0        0       C          93                    False   \n",
       "38296         0     1.0        0       C          93                    False   \n",
       "38422         0     NaN        0     NaN          21                    False   \n",
       "38423         0     NaN        0     NaN          21                    False   \n",
       "\n",
       "                  image_zip  \n",
       "0       10006_462822612.png  \n",
       "1      10006_1459541791.png  \n",
       "2      10006_1864590858.png  \n",
       "3      10006_1874946579.png  \n",
       "4       10011_220375232.png  \n",
       "...                     ...  \n",
       "38294   51091_396011329.png  \n",
       "38295  51091_1357908885.png  \n",
       "38296  51091_1825223741.png  \n",
       "38422   51276_711908647.png  \n",
       "38423  51276_1416534699.png  \n",
       "\n",
       "[38294 rows x 15 columns]"
      ]
     },
     "execution_count": 11,
     "metadata": {},
     "output_type": "execute_result"
    }
   ],
   "source": [
    "import pandas as pd\n",
    "\n",
    "# Seleccionar los registros cuya columna 'image_zip' coincida con los nombres de archivos en 'files'\n",
    "df_train = df[df['image_zip'].isin(files)]\n",
    "df_train\n"
   ]
  },
  {
   "cell_type": "code",
   "execution_count": 12,
   "metadata": {
    "colab": {
     "base_uri": "https://localhost:8080/"
    },
    "execution": {
     "iopub.execute_input": "2023-04-29T09:17:40.569672Z",
     "iopub.status.busy": "2023-04-29T09:17:40.569120Z",
     "iopub.status.idle": "2023-04-29T09:18:22.310162Z",
     "shell.execute_reply": "2023-04-29T09:18:22.309100Z",
     "shell.execute_reply.started": "2023-04-29T09:17:40.569616Z"
    },
    "id": "nuwy_31NhpVK",
    "outputId": "38f2619c-01c0-4c63-dec8-02880bbf1ad5"
   },
   "outputs": [
    {
     "name": "stdout",
     "output_type": "stream",
     "text": [
      "Found 38294 validated image filenames belonging to 2 classes.\n"
     ]
    }
   ],
   "source": [
    "# crear un objeto ImageDataGenerator\n",
    "datagen = ImageDataGenerator(rescale=1./255)\n",
    "\n",
    "# crear generador de imágenes y etiquetas\n",
    "generador = datagen.flow_from_dataframe(\n",
    "    dataframe=df_train,                           # dataframe con las etiquetas\n",
    "    directory=ruta_directorio_train,             # carpeta con las imágenes\n",
    "    x_col=\"image_zip\",                      # columna del dataframe con los nombres de las imágenes\n",
    "    y_col=\"cancer\",                         # columna del dataframe con las etiquetas\n",
    "    target_size=(180, 180),                 # tamaño de las imágenes\n",
    "    class_mode=\"binary\",                    # tipo de etiquetas\n",
    "    batch_size= 512,                        # tamaño del lote (batch)\n",
    "    smart_resize = True\n",
    ")\n",
    "\n"
   ]
  },
  {
   "cell_type": "code",
   "execution_count": 13,
   "metadata": {
    "colab": {
     "base_uri": "https://localhost:8080/"
    },
    "id": "eXuAWUjU0Swh",
    "outputId": "c7f0ba8b-c4e7-4629-c9fe-964ef1ae0026"
   },
   "outputs": [
    {
     "name": "stdout",
     "output_type": "stream",
     "text": [
      "Clase '0': 37483 imágenes\n",
      "Clase '1': 811 imágenes\n"
     ]
    }
   ],
   "source": [
    "from collections import Counter\n",
    "\n",
    "# Obtener las etiquetas de las imágenes\n",
    "labels = generador.classes\n",
    "\n",
    "# Contar la cantidad de imágenes por clase\n",
    "num_images_per_class = Counter(labels)\n",
    "\n",
    "# Imprimir la cantidad de imágenes por clase\n",
    "for class_name, count in num_images_per_class.items():\n",
    "    print(f\"Clase '{class_name}': {count} imágenes\")\n",
    "\n"
   ]
  },
  {
   "cell_type": "code",
   "execution_count": 14,
   "metadata": {
    "colab": {
     "base_uri": "https://localhost:8080/",
     "height": 250
    },
    "id": "DEYvnntVqIyP",
    "outputId": "5b8c4295-8799-4e16-e2d0-4b77918ea483"
   },
   "outputs": [
    {
     "name": "stdout",
     "output_type": "stream",
     "text": [
      "(180, 180, 3)\n"
     ]
    },
    {
     "data": {
      "image/png": "[encoded data removed]",
      "text/plain": [
       "<Figure size 432x288 with 1 Axes>"
      ]
     },
     "metadata": {
      "needs_background": "light"
     },
     "output_type": "display_data"
    }
   ],
   "source": [
    "import matplotlib.pyplot as plt\n",
    "# Obtener un lote de imágenes del generador\n",
    "x_batch, y_batch = generador.next()\n",
    "# Acceder a la primera imagen del lote\n",
    "image = x_batch[0]\n",
    "# Visualizar la imagen\n",
    "plt.subplot(2,2,2)\n",
    "plt.imshow(image)\n",
    "print(image.shape)\n",
    "plt.show()\n"
   ]
  },
  {
   "cell_type": "code",
   "execution_count": 16,
   "metadata": {
    "id": "IHBt6OSUWfV-"
   },
   "outputs": [],
   "source": [
    "# Ruta del directorio donde se encuentran las imágenes\n",
    "path = ruta_directorio_validation\n",
    "\n",
    "# Obtener la lista de archivos en el directorio\n",
    "files_val = os.listdir(path)"
   ]
  },
  {
   "cell_type": "code",
   "execution_count": 17,
   "metadata": {
    "colab": {
     "base_uri": "https://localhost:8080/",
     "height": 488
    },
    "id": "uRodCE4_WaHB",
    "outputId": "64169133-5d87-4758-b670-16fc2e37b560"
   },
   "outputs": [
    {
     "data": {
      "text/html": [
       "<div>\n",
       "<style scoped>\n",
       "    .dataframe tbody tr th:only-of-type {\n",
       "        vertical-align: middle;\n",
       "    }\n",
       "\n",
       "    .dataframe tbody tr th {\n",
       "        vertical-align: top;\n",
       "    }\n",
       "\n",
       "    .dataframe thead th {\n",
       "        text-align: right;\n",
       "    }\n",
       "</style>\n",
       "<table border=\"1\" class=\"dataframe\">\n",
       "  <thead>\n",
       "    <tr style=\"text-align: right;\">\n",
       "      <th></th>\n",
       "      <th>site_id</th>\n",
       "      <th>patient_id</th>\n",
       "      <th>image_id</th>\n",
       "      <th>laterality</th>\n",
       "      <th>view</th>\n",
       "      <th>age</th>\n",
       "      <th>cancer</th>\n",
       "      <th>biopsy</th>\n",
       "      <th>invasive</th>\n",
       "      <th>BIRADS</th>\n",
       "      <th>implant</th>\n",
       "      <th>density</th>\n",
       "      <th>machine_id</th>\n",
       "      <th>difficult_negative_case</th>\n",
       "      <th>image_zip</th>\n",
       "    </tr>\n",
       "  </thead>\n",
       "  <tbody>\n",
       "    <tr>\n",
       "      <th>38292</th>\n",
       "      <td>1</td>\n",
       "      <td>51091</td>\n",
       "      <td>476922095</td>\n",
       "      <td>L</td>\n",
       "      <td>MLO</td>\n",
       "      <td>66.0</td>\n",
       "      <td>0</td>\n",
       "      <td>0</td>\n",
       "      <td>0</td>\n",
       "      <td>1.0</td>\n",
       "      <td>0</td>\n",
       "      <td>C</td>\n",
       "      <td>93</td>\n",
       "      <td>False</td>\n",
       "      <td>51091_476922095.png</td>\n",
       "    </tr>\n",
       "    <tr>\n",
       "      <th>38297</th>\n",
       "      <td>2</td>\n",
       "      <td>5110</td>\n",
       "      <td>713671002</td>\n",
       "      <td>L</td>\n",
       "      <td>MLO</td>\n",
       "      <td>50.0</td>\n",
       "      <td>0</td>\n",
       "      <td>0</td>\n",
       "      <td>0</td>\n",
       "      <td>NaN</td>\n",
       "      <td>0</td>\n",
       "      <td>NaN</td>\n",
       "      <td>21</td>\n",
       "      <td>False</td>\n",
       "      <td>5110_713671002.png</td>\n",
       "    </tr>\n",
       "    <tr>\n",
       "      <th>38298</th>\n",
       "      <td>2</td>\n",
       "      <td>5110</td>\n",
       "      <td>2033903486</td>\n",
       "      <td>L</td>\n",
       "      <td>CC</td>\n",
       "      <td>50.0</td>\n",
       "      <td>0</td>\n",
       "      <td>0</td>\n",
       "      <td>0</td>\n",
       "      <td>NaN</td>\n",
       "      <td>0</td>\n",
       "      <td>NaN</td>\n",
       "      <td>21</td>\n",
       "      <td>False</td>\n",
       "      <td>5110_2033903486.png</td>\n",
       "    </tr>\n",
       "    <tr>\n",
       "      <th>38299</th>\n",
       "      <td>2</td>\n",
       "      <td>5110</td>\n",
       "      <td>168639181</td>\n",
       "      <td>R</td>\n",
       "      <td>CC</td>\n",
       "      <td>50.0</td>\n",
       "      <td>0</td>\n",
       "      <td>0</td>\n",
       "      <td>0</td>\n",
       "      <td>NaN</td>\n",
       "      <td>0</td>\n",
       "      <td>NaN</td>\n",
       "      <td>21</td>\n",
       "      <td>False</td>\n",
       "      <td>5110_168639181.png</td>\n",
       "    </tr>\n",
       "    <tr>\n",
       "      <th>38300</th>\n",
       "      <td>2</td>\n",
       "      <td>5110</td>\n",
       "      <td>1682117507</td>\n",
       "      <td>R</td>\n",
       "      <td>MLO</td>\n",
       "      <td>50.0</td>\n",
       "      <td>0</td>\n",
       "      <td>0</td>\n",
       "      <td>0</td>\n",
       "      <td>NaN</td>\n",
       "      <td>0</td>\n",
       "      <td>NaN</td>\n",
       "      <td>21</td>\n",
       "      <td>False</td>\n",
       "      <td>5110_1682117507.png</td>\n",
       "    </tr>\n",
       "    <tr>\n",
       "      <th>...</th>\n",
       "      <td>...</td>\n",
       "      <td>...</td>\n",
       "      <td>...</td>\n",
       "      <td>...</td>\n",
       "      <td>...</td>\n",
       "      <td>...</td>\n",
       "      <td>...</td>\n",
       "      <td>...</td>\n",
       "      <td>...</td>\n",
       "      <td>...</td>\n",
       "      <td>...</td>\n",
       "      <td>...</td>\n",
       "      <td>...</td>\n",
       "      <td>...</td>\n",
       "      <td>...</td>\n",
       "    </tr>\n",
       "    <tr>\n",
       "      <th>47084</th>\n",
       "      <td>2</td>\n",
       "      <td>60617</td>\n",
       "      <td>1075848024</td>\n",
       "      <td>L</td>\n",
       "      <td>MLO</td>\n",
       "      <td>68.0</td>\n",
       "      <td>1</td>\n",
       "      <td>1</td>\n",
       "      <td>0</td>\n",
       "      <td>NaN</td>\n",
       "      <td>0</td>\n",
       "      <td>NaN</td>\n",
       "      <td>21</td>\n",
       "      <td>False</td>\n",
       "      <td>60617_1075848024.png</td>\n",
       "    </tr>\n",
       "    <tr>\n",
       "      <th>47085</th>\n",
       "      <td>2</td>\n",
       "      <td>60617</td>\n",
       "      <td>2047450417</td>\n",
       "      <td>L</td>\n",
       "      <td>CC</td>\n",
       "      <td>68.0</td>\n",
       "      <td>1</td>\n",
       "      <td>1</td>\n",
       "      <td>0</td>\n",
       "      <td>NaN</td>\n",
       "      <td>0</td>\n",
       "      <td>NaN</td>\n",
       "      <td>21</td>\n",
       "      <td>False</td>\n",
       "      <td>60617_2047450417.png</td>\n",
       "    </tr>\n",
       "    <tr>\n",
       "      <th>47092</th>\n",
       "      <td>1</td>\n",
       "      <td>60629</td>\n",
       "      <td>306442803</td>\n",
       "      <td>L</td>\n",
       "      <td>MLO</td>\n",
       "      <td>59.0</td>\n",
       "      <td>1</td>\n",
       "      <td>1</td>\n",
       "      <td>0</td>\n",
       "      <td>0.0</td>\n",
       "      <td>0</td>\n",
       "      <td>B</td>\n",
       "      <td>49</td>\n",
       "      <td>False</td>\n",
       "      <td>60629_306442803.png</td>\n",
       "    </tr>\n",
       "    <tr>\n",
       "      <th>47093</th>\n",
       "      <td>1</td>\n",
       "      <td>60629</td>\n",
       "      <td>697950433</td>\n",
       "      <td>L</td>\n",
       "      <td>CC</td>\n",
       "      <td>59.0</td>\n",
       "      <td>1</td>\n",
       "      <td>1</td>\n",
       "      <td>0</td>\n",
       "      <td>0.0</td>\n",
       "      <td>0</td>\n",
       "      <td>B</td>\n",
       "      <td>49</td>\n",
       "      <td>False</td>\n",
       "      <td>60629_697950433.png</td>\n",
       "    </tr>\n",
       "    <tr>\n",
       "      <th>47112</th>\n",
       "      <td>2</td>\n",
       "      <td>60653</td>\n",
       "      <td>101263956</td>\n",
       "      <td>R</td>\n",
       "      <td>MLO</td>\n",
       "      <td>68.0</td>\n",
       "      <td>1</td>\n",
       "      <td>1</td>\n",
       "      <td>1</td>\n",
       "      <td>NaN</td>\n",
       "      <td>0</td>\n",
       "      <td>NaN</td>\n",
       "      <td>29</td>\n",
       "      <td>False</td>\n",
       "      <td>60653_101263956.png</td>\n",
       "    </tr>\n",
       "  </tbody>\n",
       "</table>\n",
       "<p>8207 rows × 15 columns</p>\n",
       "</div>"
      ],
      "text/plain": [
       "       site_id  patient_id    image_id laterality view   age cancer  biopsy  \\\n",
       "38292        1       51091   476922095          L  MLO  66.0      0       0   \n",
       "38297        2        5110   713671002          L  MLO  50.0      0       0   \n",
       "38298        2        5110  2033903486          L   CC  50.0      0       0   \n",
       "38299        2        5110   168639181          R   CC  50.0      0       0   \n",
       "38300        2        5110  1682117507          R  MLO  50.0      0       0   \n",
       "...        ...         ...         ...        ...  ...   ...    ...     ...   \n",
       "47084        2       60617  1075848024          L  MLO  68.0      1       1   \n",
       "47085        2       60617  2047450417          L   CC  68.0      1       1   \n",
       "47092        1       60629   306442803          L  MLO  59.0      1       1   \n",
       "47093        1       60629   697950433          L   CC  59.0      1       1   \n",
       "47112        2       60653   101263956          R  MLO  68.0      1       1   \n",
       "\n",
       "       invasive  BIRADS  implant density  machine_id  difficult_negative_case  \\\n",
       "38292         0     1.0        0       C          93                    False   \n",
       "38297         0     NaN        0     NaN          21                    False   \n",
       "38298         0     NaN        0     NaN          21                    False   \n",
       "38299         0     NaN        0     NaN          21                    False   \n",
       "38300         0     NaN        0     NaN          21                    False   \n",
       "...         ...     ...      ...     ...         ...                      ...   \n",
       "47084         0     NaN        0     NaN          21                    False   \n",
       "47085         0     NaN        0     NaN          21                    False   \n",
       "47092         0     0.0        0       B          49                    False   \n",
       "47093         0     0.0        0       B          49                    False   \n",
       "47112         1     NaN        0     NaN          29                    False   \n",
       "\n",
       "                  image_zip  \n",
       "38292   51091_476922095.png  \n",
       "38297    5110_713671002.png  \n",
       "38298   5110_2033903486.png  \n",
       "38299    5110_168639181.png  \n",
       "38300   5110_1682117507.png  \n",
       "...                     ...  \n",
       "47084  60617_1075848024.png  \n",
       "47085  60617_2047450417.png  \n",
       "47092   60629_306442803.png  \n",
       "47093   60629_697950433.png  \n",
       "47112   60653_101263956.png  \n",
       "\n",
       "[8207 rows x 15 columns]"
      ]
     },
     "execution_count": 17,
     "metadata": {},
     "output_type": "execute_result"
    }
   ],
   "source": [
    "# Seleccionar los registros cuya columna 'image_zip' coincida con los nombres de archivos en 'files'\n",
    "df_val= df[df['image_zip'].isin(files_val)]\n",
    "df_val"
   ]
  },
  {
   "cell_type": "code",
   "execution_count": 18,
   "metadata": {
    "colab": {
     "base_uri": "https://localhost:8080/"
    },
    "execution": {
     "iopub.execute_input": "2023-04-29T09:18:49.600425Z",
     "iopub.status.busy": "2023-04-29T09:18:49.599759Z",
     "iopub.status.idle": "2023-04-29T09:19:20.393215Z",
     "shell.execute_reply": "2023-04-29T09:19:20.392101Z",
     "shell.execute_reply.started": "2023-04-29T09:18:49.600383Z"
    },
    "id": "2C1M6RiThpVM",
    "outputId": "d4097bd0-fa49-4b36-b8d2-9fb2924b4967"
   },
   "outputs": [
    {
     "name": "stdout",
     "output_type": "stream",
     "text": [
      "Found 8207 validated image filenames belonging to 2 classes.\n"
     ]
    }
   ],
   "source": [
    "# crear un objeto ImageDataGenerator\n",
    "datagen = ImageDataGenerator(rescale=1./255)\n",
    "\n",
    "# crear generador de imágenes y etiquetas\n",
    "generador_val = datagen.flow_from_dataframe(\n",
    "    dataframe=df_val,                           # dataframe con las etiquetas\n",
    "    directory=ruta_directorio_validation,               # carpeta con las imágenes\n",
    "    x_col=\"image_zip\",                      # columna del dataframe con los nombres de las imágenes\n",
    "    y_col=\"cancer\",                         # columna del dataframe con las etiquetas\n",
    "    target_size=(180, 180),                 # tamaño de las imágenes\n",
    "    class_mode=\"binary\",                    # tipo de etiquetas\n",
    "    batch_size= 512,                        # tamaño del lote (batch)\n",
    "    smart_resize = True\n",
    ")"
   ]
  },
  {
   "cell_type": "code",
   "execution_count": 19,
   "metadata": {
    "colab": {
     "base_uri": "https://localhost:8080/"
    },
    "id": "YFs4YyAn086m",
    "outputId": "e21bab24-db6a-435b-f1a1-a79ce220a4af"
   },
   "outputs": [
    {
     "name": "stdout",
     "output_type": "stream",
     "text": [
      "Clase '0': 8033 imágenes\n",
      "Clase '1': 174 imágenes\n"
     ]
    }
   ],
   "source": [
    "from collections import Counter\n",
    "\n",
    "# Obtener las etiquetas de las imágenes\n",
    "labels = generador_val.classes\n",
    "\n",
    "# Contar la cantidad de imágenes por clase\n",
    "num_images_per_class = Counter(labels)\n",
    "\n",
    "# Imprimir la cantidad de imágenes por clase\n",
    "for class_name, count in num_images_per_class.items():\n",
    "    print(f\"Clase '{class_name}': {count} imágenes\")\n"
   ]
  },
  {
   "cell_type": "code",
   "execution_count": 20,
   "metadata": {
    "id": "bTnbGUIMWo-c"
   },
   "outputs": [],
   "source": [
    "# Ruta del directorio donde se encuentran las imágenes\n",
    "path = ruta_directorio_test\n",
    "\n",
    "# Obtener la lista de archivos en el directorio\n",
    "files_test = os.listdir(path)"
   ]
  },
  {
   "cell_type": "code",
   "execution_count": 21,
   "metadata": {
    "colab": {
     "base_uri": "https://localhost:8080/",
     "height": 488
    },
    "id": "UIFTartAWtVz",
    "outputId": "71deafd6-6e61-4dbd-f5b1-c00b11e2dcb3"
   },
   "outputs": [
    {
     "data": {
      "text/html": [
       "<div>\n",
       "<style scoped>\n",
       "    .dataframe tbody tr th:only-of-type {\n",
       "        vertical-align: middle;\n",
       "    }\n",
       "\n",
       "    .dataframe tbody tr th {\n",
       "        vertical-align: top;\n",
       "    }\n",
       "\n",
       "    .dataframe thead th {\n",
       "        text-align: right;\n",
       "    }\n",
       "</style>\n",
       "<table border=\"1\" class=\"dataframe\">\n",
       "  <thead>\n",
       "    <tr style=\"text-align: right;\">\n",
       "      <th></th>\n",
       "      <th>site_id</th>\n",
       "      <th>patient_id</th>\n",
       "      <th>image_id</th>\n",
       "      <th>laterality</th>\n",
       "      <th>view</th>\n",
       "      <th>age</th>\n",
       "      <th>cancer</th>\n",
       "      <th>biopsy</th>\n",
       "      <th>invasive</th>\n",
       "      <th>BIRADS</th>\n",
       "      <th>implant</th>\n",
       "      <th>density</th>\n",
       "      <th>machine_id</th>\n",
       "      <th>difficult_negative_case</th>\n",
       "      <th>image_zip</th>\n",
       "    </tr>\n",
       "  </thead>\n",
       "  <tbody>\n",
       "    <tr>\n",
       "      <th>37282</th>\n",
       "      <td>2</td>\n",
       "      <td>5</td>\n",
       "      <td>640805896</td>\n",
       "      <td>L</td>\n",
       "      <td>MLO</td>\n",
       "      <td>68.0</td>\n",
       "      <td>0</td>\n",
       "      <td>0</td>\n",
       "      <td>0</td>\n",
       "      <td>0.0</td>\n",
       "      <td>0</td>\n",
       "      <td>NaN</td>\n",
       "      <td>21</td>\n",
       "      <td>True</td>\n",
       "      <td>5_640805896.png</td>\n",
       "    </tr>\n",
       "    <tr>\n",
       "      <th>37283</th>\n",
       "      <td>2</td>\n",
       "      <td>5</td>\n",
       "      <td>1351088028</td>\n",
       "      <td>L</td>\n",
       "      <td>CC</td>\n",
       "      <td>68.0</td>\n",
       "      <td>0</td>\n",
       "      <td>0</td>\n",
       "      <td>0</td>\n",
       "      <td>0.0</td>\n",
       "      <td>0</td>\n",
       "      <td>NaN</td>\n",
       "      <td>21</td>\n",
       "      <td>True</td>\n",
       "      <td>5_1351088028.png</td>\n",
       "    </tr>\n",
       "    <tr>\n",
       "      <th>37284</th>\n",
       "      <td>2</td>\n",
       "      <td>5</td>\n",
       "      <td>940388076</td>\n",
       "      <td>R</td>\n",
       "      <td>CC</td>\n",
       "      <td>68.0</td>\n",
       "      <td>0</td>\n",
       "      <td>0</td>\n",
       "      <td>0</td>\n",
       "      <td>NaN</td>\n",
       "      <td>0</td>\n",
       "      <td>NaN</td>\n",
       "      <td>21</td>\n",
       "      <td>False</td>\n",
       "      <td>5_940388076.png</td>\n",
       "    </tr>\n",
       "    <tr>\n",
       "      <th>37285</th>\n",
       "      <td>2</td>\n",
       "      <td>5</td>\n",
       "      <td>1633417959</td>\n",
       "      <td>R</td>\n",
       "      <td>MLO</td>\n",
       "      <td>68.0</td>\n",
       "      <td>0</td>\n",
       "      <td>0</td>\n",
       "      <td>0</td>\n",
       "      <td>NaN</td>\n",
       "      <td>0</td>\n",
       "      <td>NaN</td>\n",
       "      <td>21</td>\n",
       "      <td>False</td>\n",
       "      <td>5_1633417959.png</td>\n",
       "    </tr>\n",
       "    <tr>\n",
       "      <th>46475</th>\n",
       "      <td>1</td>\n",
       "      <td>5999</td>\n",
       "      <td>422542358</td>\n",
       "      <td>L</td>\n",
       "      <td>MLO</td>\n",
       "      <td>39.0</td>\n",
       "      <td>0</td>\n",
       "      <td>0</td>\n",
       "      <td>0</td>\n",
       "      <td>1.0</td>\n",
       "      <td>0</td>\n",
       "      <td>C</td>\n",
       "      <td>216</td>\n",
       "      <td>False</td>\n",
       "      <td>5999_422542358.png</td>\n",
       "    </tr>\n",
       "    <tr>\n",
       "      <th>...</th>\n",
       "      <td>...</td>\n",
       "      <td>...</td>\n",
       "      <td>...</td>\n",
       "      <td>...</td>\n",
       "      <td>...</td>\n",
       "      <td>...</td>\n",
       "      <td>...</td>\n",
       "      <td>...</td>\n",
       "      <td>...</td>\n",
       "      <td>...</td>\n",
       "      <td>...</td>\n",
       "      <td>...</td>\n",
       "      <td>...</td>\n",
       "      <td>...</td>\n",
       "      <td>...</td>\n",
       "    </tr>\n",
       "    <tr>\n",
       "      <th>54701</th>\n",
       "      <td>1</td>\n",
       "      <td>9973</td>\n",
       "      <td>1729524723</td>\n",
       "      <td>R</td>\n",
       "      <td>MLO</td>\n",
       "      <td>43.0</td>\n",
       "      <td>0</td>\n",
       "      <td>0</td>\n",
       "      <td>0</td>\n",
       "      <td>1.0</td>\n",
       "      <td>0</td>\n",
       "      <td>C</td>\n",
       "      <td>49</td>\n",
       "      <td>False</td>\n",
       "      <td>9973_1729524723.png</td>\n",
       "    </tr>\n",
       "    <tr>\n",
       "      <th>54702</th>\n",
       "      <td>1</td>\n",
       "      <td>9989</td>\n",
       "      <td>63473691</td>\n",
       "      <td>L</td>\n",
       "      <td>MLO</td>\n",
       "      <td>60.0</td>\n",
       "      <td>0</td>\n",
       "      <td>0</td>\n",
       "      <td>0</td>\n",
       "      <td>NaN</td>\n",
       "      <td>0</td>\n",
       "      <td>C</td>\n",
       "      <td>216</td>\n",
       "      <td>False</td>\n",
       "      <td>9989_63473691.png</td>\n",
       "    </tr>\n",
       "    <tr>\n",
       "      <th>54703</th>\n",
       "      <td>1</td>\n",
       "      <td>9989</td>\n",
       "      <td>1078943060</td>\n",
       "      <td>L</td>\n",
       "      <td>CC</td>\n",
       "      <td>60.0</td>\n",
       "      <td>0</td>\n",
       "      <td>0</td>\n",
       "      <td>0</td>\n",
       "      <td>NaN</td>\n",
       "      <td>0</td>\n",
       "      <td>C</td>\n",
       "      <td>216</td>\n",
       "      <td>False</td>\n",
       "      <td>9989_1078943060.png</td>\n",
       "    </tr>\n",
       "    <tr>\n",
       "      <th>54704</th>\n",
       "      <td>1</td>\n",
       "      <td>9989</td>\n",
       "      <td>398038886</td>\n",
       "      <td>R</td>\n",
       "      <td>MLO</td>\n",
       "      <td>60.0</td>\n",
       "      <td>0</td>\n",
       "      <td>0</td>\n",
       "      <td>0</td>\n",
       "      <td>0.0</td>\n",
       "      <td>0</td>\n",
       "      <td>C</td>\n",
       "      <td>216</td>\n",
       "      <td>True</td>\n",
       "      <td>9989_398038886.png</td>\n",
       "    </tr>\n",
       "    <tr>\n",
       "      <th>54705</th>\n",
       "      <td>1</td>\n",
       "      <td>9989</td>\n",
       "      <td>439796429</td>\n",
       "      <td>R</td>\n",
       "      <td>CC</td>\n",
       "      <td>60.0</td>\n",
       "      <td>0</td>\n",
       "      <td>0</td>\n",
       "      <td>0</td>\n",
       "      <td>0.0</td>\n",
       "      <td>0</td>\n",
       "      <td>C</td>\n",
       "      <td>216</td>\n",
       "      <td>True</td>\n",
       "      <td>9989_439796429.png</td>\n",
       "    </tr>\n",
       "  </tbody>\n",
       "</table>\n",
       "<p>8205 rows × 15 columns</p>\n",
       "</div>"
      ],
      "text/plain": [
       "       site_id  patient_id    image_id laterality view   age cancer  biopsy  \\\n",
       "37282        2           5   640805896          L  MLO  68.0      0       0   \n",
       "37283        2           5  1351088028          L   CC  68.0      0       0   \n",
       "37284        2           5   940388076          R   CC  68.0      0       0   \n",
       "37285        2           5  1633417959          R  MLO  68.0      0       0   \n",
       "46475        1        5999   422542358          L  MLO  39.0      0       0   \n",
       "...        ...         ...         ...        ...  ...   ...    ...     ...   \n",
       "54701        1        9973  1729524723          R  MLO  43.0      0       0   \n",
       "54702        1        9989    63473691          L  MLO  60.0      0       0   \n",
       "54703        1        9989  1078943060          L   CC  60.0      0       0   \n",
       "54704        1        9989   398038886          R  MLO  60.0      0       0   \n",
       "54705        1        9989   439796429          R   CC  60.0      0       0   \n",
       "\n",
       "       invasive  BIRADS  implant density  machine_id  difficult_negative_case  \\\n",
       "37282         0     0.0        0     NaN          21                     True   \n",
       "37283         0     0.0        0     NaN          21                     True   \n",
       "37284         0     NaN        0     NaN          21                    False   \n",
       "37285         0     NaN        0     NaN          21                    False   \n",
       "46475         0     1.0        0       C         216                    False   \n",
       "...         ...     ...      ...     ...         ...                      ...   \n",
       "54701         0     1.0        0       C          49                    False   \n",
       "54702         0     NaN        0       C         216                    False   \n",
       "54703         0     NaN        0       C         216                    False   \n",
       "54704         0     0.0        0       C         216                     True   \n",
       "54705         0     0.0        0       C         216                     True   \n",
       "\n",
       "                 image_zip  \n",
       "37282      5_640805896.png  \n",
       "37283     5_1351088028.png  \n",
       "37284      5_940388076.png  \n",
       "37285     5_1633417959.png  \n",
       "46475   5999_422542358.png  \n",
       "...                    ...  \n",
       "54701  9973_1729524723.png  \n",
       "54702    9989_63473691.png  \n",
       "54703  9989_1078943060.png  \n",
       "54704   9989_398038886.png  \n",
       "54705   9989_439796429.png  \n",
       "\n",
       "[8205 rows x 15 columns]"
      ]
     },
     "execution_count": 21,
     "metadata": {},
     "output_type": "execute_result"
    }
   ],
   "source": [
    "df_test= df[df['image_zip'].isin(files_test)]\n",
    "df_test"
   ]
  },
  {
   "cell_type": "code",
   "execution_count": 22,
   "metadata": {
    "colab": {
     "base_uri": "https://localhost:8080/"
    },
    "id": "zEM-oQbWc6p6",
    "outputId": "fc95b296-bf5e-4155-9139-c381c13c1565"
   },
   "outputs": [
    {
     "name": "stdout",
     "output_type": "stream",
     "text": [
      "Found 8205 validated image filenames belonging to 2 classes.\n"
     ]
    }
   ],
   "source": [
    "# crear un objeto ImageDataGenerator\n",
    "datagen = ImageDataGenerator(rescale=1./255)\n",
    "\n",
    "# crear generador de imágenes y etiquetas\n",
    "generador_test = datagen.flow_from_dataframe(\n",
    "    dataframe=df_test,                           # dataframe con las etiquetas\n",
    "    directory=ruta_directorio_test,             # carpeta con las imágenes\n",
    "    x_col=\"image_zip\",                      # columna del dataframe con los nombres de las imágenes\n",
    "    y_col=\"cancer\",                         # columna del dataframe con las etiquetas\n",
    "    target_size=(180, 180),                 # tamaño de las imágenes\n",
    "    class_mode=\"binary\",                    # tipo de etiquetas\n",
    "    batch_size= 256,                        # tamaño del lote (batch)\n",
    "    smart_resize = True\n",
    ")\n"
   ]
  },
  {
   "cell_type": "code",
   "execution_count": 23,
   "metadata": {
    "colab": {
     "base_uri": "https://localhost:8080/"
    },
    "id": "VeQJ55500_9A",
    "outputId": "a280fef7-84e5-476a-ab5f-b85f1eeecd43"
   },
   "outputs": [
    {
     "name": "stdout",
     "output_type": "stream",
     "text": [
      "Clase '0': 8032 imágenes\n",
      "Clase '1': 173 imágenes\n"
     ]
    }
   ],
   "source": [
    "from collections import Counter\n",
    "\n",
    "# Obtener las etiquetas de las imágenes\n",
    "labels = generador_test.classes\n",
    "\n",
    "# Contar la cantidad de imágenes por clase\n",
    "num_images_per_class = Counter(labels)\n",
    "\n",
    "# Imprimir la cantidad de imágenes por clase\n",
    "for class_name, count in num_images_per_class.items():\n",
    "    print(f\"Clase '{class_name}': {count} imágenes\")\n"
   ]
  },
  {
   "cell_type": "markdown",
   "metadata": {
    "id": "ULRAhvh5cdC2"
   },
   "source": [
    "# MODELO BASICO CNN - con todas las imagenes"
   ]
  },
  {
   "cell_type": "code",
   "execution_count": null,
   "metadata": {
    "execution": {
     "iopub.execute_input": "2023-04-29T09:24:11.494398Z",
     "iopub.status.busy": "2023-04-29T09:24:11.493707Z",
     "iopub.status.idle": "2023-04-29T09:24:13.650721Z",
     "shell.execute_reply": "2023-04-29T09:24:13.649687Z",
     "shell.execute_reply.started": "2023-04-29T09:24:11.494360Z"
    },
    "id": "1WipSL0u-U5W"
   },
   "outputs": [],
   "source": [
    "from tensorflow import keras\n",
    "from tensorflow.keras import layers\n",
    "\n",
    "# El modelo espera imágenes RGB de tamaño 180 × 180\n",
    "inputs = keras.Input(shape=(180, 180, 3))\n",
    "# Reescala las entradas al rango [0, 1] dividiéndolas por 255\n",
    "x = layers.Rescaling(1./255)(inputs)\n",
    "x = layers.Conv2D(filters=4, kernel_size=3, activation=\"relu\")(x)\n",
    "x = layers.MaxPooling2D(pool_size=2)(x)\n",
    "x = layers.Conv2D(filters=4, kernel_size=3, activation=\"relu\")(x)\n",
    "x = layers.MaxPooling2D(pool_size=2)(x)\n",
    "x = layers.Conv2D(filters=4, kernel_size=3, activation=\"relu\")(x)\n",
    "\n",
    "x = layers.Flatten()(x)\n",
    "outputs = layers.Dense(1, activation=\"sigmoid\")(x)\n",
    "model = keras.Model(inputs=inputs, outputs=outputs)"
   ]
  },
  {
   "cell_type": "code",
   "execution_count": null,
   "metadata": {
    "colab": {
     "base_uri": "https://localhost:8080/"
    },
    "execution": {
     "iopub.execute_input": "2023-04-29T09:24:25.964512Z",
     "iopub.status.busy": "2023-04-29T09:24:25.963996Z",
     "iopub.status.idle": "2023-04-29T09:24:26.024567Z",
     "shell.execute_reply": "2023-04-29T09:24:26.023770Z",
     "shell.execute_reply.started": "2023-04-29T09:24:25.964468Z"
    },
    "id": "TjcfENZk-U5X",
    "outputId": "1a8bcdaa-15cd-4279-b874-0f582a757db6"
   },
   "outputs": [],
   "source": [
    "model.summary()"
   ]
  },
  {
   "cell_type": "code",
   "execution_count": null,
   "metadata": {
    "id": "YR4hwJ63clj2"
   },
   "outputs": [],
   "source": [
    "model.compile(loss=\"binary_crossentropy\",\n",
    "              optimizer=\"adam\",\n",
    "              metrics=[\"accuracy\"])"
   ]
  },
  {
   "cell_type": "code",
   "execution_count": null,
   "metadata": {
    "id": "cQ_e9nt_cqAF"
   },
   "outputs": [],
   "source": [
    "callbacks = [\n",
    "    keras.callbacks.ModelCheckpoint(\n",
    "        # Ruta específica donde guardar el fichero\n",
    "        filepath=\"convnet_from_scratch.keras\",\n",
    "        # Las dos líneas siguientes, le dice al callback que solo guarde un \n",
    "        # nuevo archivo (sobrescribiendo cualquier anterior) cuando el valor \n",
    "        # actual de la métrica val_loss sea menor que en cualquier momento \n",
    "        # anterior durante el entrenamiento.\n",
    "        save_best_only=True,\n",
    "        monitor=\"val_loss\")\n",
    "]"
   ]
  },
  {
   "cell_type": "code",
   "execution_count": null,
   "metadata": {
    "colab": {
     "base_uri": "https://localhost:8080/"
    },
    "id": "zajiPi2Ydwgv",
    "outputId": "42c55c1a-55d0-4fa7-fba7-6faa55c5e449"
   },
   "outputs": [],
   "source": [
    "history = model.fit(\n",
    "    generador,\n",
    "    epochs=30,\n",
    "    batch_size= 300,\n",
    "    validation_data=generador_val)"
   ]
  },
  {
   "cell_type": "code",
   "execution_count": null,
   "metadata": {
    "colab": {
     "base_uri": "https://localhost:8080/",
     "height": 889
    },
    "id": "YBiMBI8QCy6U",
    "outputId": "3eba7f44-6c5f-4737-dcfd-21021b167c39"
   },
   "outputs": [],
   "source": [
    "import matplotlib.pyplot as plt\n",
    "accuracy = history.history[\"accuracy\"]\n",
    "val_accuracy = history.history[\"val_accuracy\"]\n",
    "loss = history.history[\"loss\"]\n",
    "val_loss = history.history[\"val_loss\"]\n",
    "epochs = range(1, len(accuracy) + 1)\n",
    "plt.plot(epochs, accuracy, \"g\", label=\"Precisión de Entrenamiento\")\n",
    "plt.plot(epochs, val_accuracy, \"b\", label=\"Precisión de Validación\")\n",
    "plt.title(\"Precisión de Entrenamiento y Validación\")\n",
    "plt.legend()\n",
    "plt.figure()\n",
    "plt.plot(epochs, loss, \"g\", label=\"Pérdida de Entrenamiento\")\n",
    "plt.plot(epochs, val_loss, \"b\", label=\"Pérdida de Validación\")\n",
    "plt.title(\"Pérdida de Entrenamiento y Validación\")\n",
    "plt.legend()\n",
    "plt.show()"
   ]
  },
  {
   "cell_type": "code",
   "execution_count": null,
   "metadata": {
    "colab": {
     "base_uri": "https://localhost:8080/"
    },
    "id": "I1MaV3Y_DCSf",
    "outputId": "a4b66c59-e5ac-4d9f-a2cb-8b7128fd8f9e"
   },
   "outputs": [],
   "source": [
    "from sklearn.metrics import confusion_matrix\n",
    "import numpy as np\n",
    "\n",
    "# generar predicciones en el conjunto de prueba\n",
    "y_pred = model.predict_generator(generador_test)\n",
    "\n",
    "# convertir las predicciones en etiquetas de clase\n",
    "y_pred_classes = np.argmax(y_pred, axis=1)\n",
    "\n",
    "# obtener las etiquetas reales\n",
    "y_true = generador_test.classes\n",
    "\n",
    "# calcular la matriz de confusión\n",
    "cm = confusion_matrix(y_true, y_pred_classes)\n",
    "print(cm)"
   ]
  },
  {
   "cell_type": "markdown",
   "metadata": {
    "id": "j_j7zwxSDDyu"
   },
   "source": [
    "**CURVA ROC**"
   ]
  },
  {
   "cell_type": "code",
   "execution_count": null,
   "metadata": {
    "colab": {
     "base_uri": "https://localhost:8080/",
     "height": 472
    },
    "id": "mZXNwIwPDC_Q",
    "outputId": "b4efc764-f9e9-4b43-abed-a9215cc7055f"
   },
   "outputs": [],
   "source": [
    "from sklearn.metrics import roc_curve\n",
    "import matplotlib.pyplot as plt\n",
    "\n",
    "\n",
    "# Calcula la curva ROC\n",
    "fpr, tpr, thresholds = roc_curve(y_true, y_pred)\n",
    "\n",
    "# Grafica la curva ROC\n",
    "plt.plot(fpr, tpr)\n",
    "plt.xlabel('False Positive Rate')\n",
    "plt.ylabel('True Positive Rate')\n",
    "plt.title('Curva ROC')\n",
    "plt.show()\n"
   ]
  },
  {
   "cell_type": "markdown",
   "metadata": {
    "id": "lb63AMxezA6o"
   },
   "source": [
    "Añadir dropout"
   ]
  },
  {
   "cell_type": "markdown",
   "metadata": {
    "id": "mtEHa0bYhsn7"
   },
   "source": [
    "# Compensando clases "
   ]
  },
  {
   "cell_type": "code",
   "execution_count": null,
   "metadata": {
    "colab": {
     "base_uri": "https://localhost:8080/",
     "height": 488
    },
    "id": "QktcS2pSqvEK",
    "outputId": "6d0752f0-ac89-4f6f-cbf0-24e2032654c2"
   },
   "outputs": [],
   "source": [
    "df_train"
   ]
  },
  {
   "cell_type": "code",
   "execution_count": null,
   "metadata": {
    "id": "ihnzu-LnU4Ty"
   },
   "outputs": [],
   "source": [
    "df_train_0 = df_train.loc[df_train['cancer']=='0']\n",
    "df_train_1 = df_train.loc[df_train['cancer']=='1']"
   ]
  },
  {
   "cell_type": "code",
   "execution_count": null,
   "metadata": {
    "id": "Li6anwXCVGyA"
   },
   "outputs": [],
   "source": [
    "df_train_0 = df_train_0[:len(df_train_1)]"
   ]
  },
  {
   "cell_type": "code",
   "execution_count": null,
   "metadata": {
    "colab": {
     "base_uri": "https://localhost:8080/"
    },
    "id": "1KaNp-mOXoTR",
    "outputId": "40186a6a-c3b9-4e48-d6ea-1828fe71c427"
   },
   "outputs": [],
   "source": [
    "print(len(df_train_1))\n",
    "print(len(df_train_0))"
   ]
  },
  {
   "cell_type": "code",
   "execution_count": null,
   "metadata": {
    "colab": {
     "base_uri": "https://localhost:8080/",
     "height": 488
    },
    "id": "V4sv_X75YZGY",
    "outputId": "99b2657e-d951-460e-f067-f4fe8f4dc2b2"
   },
   "outputs": [],
   "source": [
    "df_entrenamiento = pd.concat([df_train_1, df_train_0])\n",
    "df_entrenamiento = df_entrenamiento.sample(frac=1).reset_index(drop=True)\n",
    "df_entrenamiento"
   ]
  },
  {
   "cell_type": "code",
   "execution_count": null,
   "metadata": {
    "id": "lAo5ZATdYzQ6"
   },
   "outputs": [],
   "source": [
    "df_val_0 = df_val.loc[df_val['cancer']=='0']\n",
    "df_val_1 = df_val.loc[df_val['cancer']=='1']"
   ]
  },
  {
   "cell_type": "code",
   "execution_count": null,
   "metadata": {
    "id": "OQsk_HSrZBKr"
   },
   "outputs": [],
   "source": [
    "df_val_0 = df_val_0[:len(df_val_1)]"
   ]
  },
  {
   "cell_type": "code",
   "execution_count": null,
   "metadata": {
    "colab": {
     "base_uri": "https://localhost:8080/",
     "height": 488
    },
    "id": "wKI53-vCZGBy",
    "outputId": "fde86316-d024-4075-c864-9e2e1af5440c"
   },
   "outputs": [],
   "source": [
    "df_validacion= pd.concat([df_val_1, df_val_0])\n",
    "df_validacion = df_validacion.sample(frac=1).reset_index(drop=True)\n",
    "df_validacion"
   ]
  },
  {
   "cell_type": "code",
   "execution_count": null,
   "metadata": {
    "id": "AIuh-_wPZNil"
   },
   "outputs": [],
   "source": [
    "df_test_0 = df_test.loc[df_test['cancer']=='0']\n",
    "df_test_1 = df_test.loc[df_test['cancer']=='1']"
   ]
  },
  {
   "cell_type": "code",
   "execution_count": null,
   "metadata": {
    "id": "5rlx1CfzZWn_"
   },
   "outputs": [],
   "source": [
    "df_test_0 = df_test_0[:len(df_test_1)]"
   ]
  },
  {
   "cell_type": "code",
   "execution_count": null,
   "metadata": {
    "colab": {
     "base_uri": "https://localhost:8080/",
     "height": 488
    },
    "id": "8YTFLff2Zdz2",
    "outputId": "e2d080f0-5024-4f9c-8961-ab66ee28d37c"
   },
   "outputs": [],
   "source": [
    "df_test = pd.concat([df_test_1, df_test_0])\n",
    "df_test = df_test.sample(frac=1).reset_index(drop=True)\n",
    "df_test"
   ]
  },
  {
   "cell_type": "markdown",
   "metadata": {
    "id": "E5G4k_1Ll5hI"
   },
   "source": [
    "# GENERADORES (compensando clases)"
   ]
  },
  {
   "cell_type": "code",
   "execution_count": null,
   "metadata": {
    "colab": {
     "base_uri": "https://localhost:8080/"
    },
    "execution": {
     "iopub.execute_input": "2023-04-29T09:17:40.569672Z",
     "iopub.status.busy": "2023-04-29T09:17:40.569120Z",
     "iopub.status.idle": "2023-04-29T09:18:22.310162Z",
     "shell.execute_reply": "2023-04-29T09:18:22.309100Z",
     "shell.execute_reply.started": "2023-04-29T09:17:40.569616Z"
    },
    "id": "4c-xK84Wl5ha",
    "outputId": "f4ce54f7-5688-4537-9f2a-0bc8ece93f53"
   },
   "outputs": [],
   "source": [
    "# crear un objeto ImageDataGenerator\n",
    "datagen = ImageDataGenerator(rescale=1./255)\n",
    "\n",
    "# crear generador de imágenes y etiquetas\n",
    "generador = datagen.flow_from_dataframe(\n",
    "    dataframe=df_entrenamiento,               # dataframe con las etiquetas\n",
    "    directory=ruta_directorio_train,             # carpeta con las imágenes\n",
    "    x_col=\"image_zip\",                      # columna del dataframe con los nombres de las imágenes\n",
    "    y_col=\"cancer\",                         # columna del dataframe con las etiquetas\n",
    "    target_size=(180, 180),                 # tamaño de las imágenes\n",
    "    class_mode=\"binary\",                    # tipo de etiquetas\n",
    "    batch_size= 512,                        # tamaño del lote (batch)\n",
    "    smart_resize = True\n",
    ")\n",
    "\n"
   ]
  },
  {
   "cell_type": "code",
   "execution_count": null,
   "metadata": {
    "colab": {
     "base_uri": "https://localhost:8080/"
    },
    "id": "9bEzeYsVl5hb",
    "outputId": "df280289-a6b1-4af5-d6a4-1e1f0b353b0d"
   },
   "outputs": [],
   "source": [
    "from collections import Counter\n",
    "\n",
    "# Obtener las etiquetas de las imágenes\n",
    "labels = generador.classes\n",
    "\n",
    "# Contar la cantidad de imágenes por clase\n",
    "num_images_per_class = Counter(labels)\n",
    "\n",
    "# Imprimir la cantidad de imágenes por clase\n",
    "for class_name, count in num_images_per_class.items():\n",
    "    print(f\"Clase '{class_name}': {count} imágenes\")\n",
    "\n"
   ]
  },
  {
   "cell_type": "code",
   "execution_count": null,
   "metadata": {
    "colab": {
     "base_uri": "https://localhost:8080/",
     "height": 250
    },
    "id": "5KCO4bgvl5hc",
    "outputId": "2f84eb73-52bb-460a-c3e8-39cb25d189b0"
   },
   "outputs": [],
   "source": [
    "import matplotlib.pyplot as plt\n",
    "# Obtener un lote de imágenes del generador\n",
    "x_batch, y_batch = generador.next()\n",
    "# Acceder a la primera imagen del lote\n",
    "image = x_batch[0]\n",
    "# Visualizar la imagen\n",
    "plt.subplot(2,2,2)\n",
    "plt.imshow(image)\n",
    "print(image.shape)\n",
    "plt.show()\n"
   ]
  },
  {
   "cell_type": "code",
   "execution_count": null,
   "metadata": {
    "colab": {
     "base_uri": "https://localhost:8080/"
    },
    "execution": {
     "iopub.execute_input": "2023-04-29T09:18:49.600425Z",
     "iopub.status.busy": "2023-04-29T09:18:49.599759Z",
     "iopub.status.idle": "2023-04-29T09:19:20.393215Z",
     "shell.execute_reply": "2023-04-29T09:19:20.392101Z",
     "shell.execute_reply.started": "2023-04-29T09:18:49.600383Z"
    },
    "id": "8FkxBX4il5hc",
    "outputId": "3b5d0acb-2a36-462b-b428-0d3e6864acca"
   },
   "outputs": [],
   "source": [
    "# crear un objeto ImageDataGenerator\n",
    "datagen = ImageDataGenerator(rescale=1./255)\n",
    "\n",
    "# crear generador de imágenes y etiquetas\n",
    "generador_val = datagen.flow_from_dataframe(\n",
    "    dataframe=df_validacion,                           # dataframe con las etiquetas\n",
    "    directory=ruta_directorio_val,               # carpeta con las imágenes\n",
    "    x_col=\"image_zip\",                      # columna del dataframe con los nombres de las imágenes\n",
    "    y_col=\"cancer\",                         # columna del dataframe con las etiquetas\n",
    "    target_size=(180, 180),                 # tamaño de las imágenes\n",
    "    class_mode=\"binary\",                    # tipo de etiquetas\n",
    "    batch_size= 512,                        # tamaño del lote (batch)\n",
    "    smart_resize = True\n",
    ")"
   ]
  },
  {
   "cell_type": "code",
   "execution_count": null,
   "metadata": {
    "colab": {
     "base_uri": "https://localhost:8080/"
    },
    "id": "NV-jjYNRl5hg",
    "outputId": "db7a4568-a370-40e2-f09d-a6d155b1643b"
   },
   "outputs": [],
   "source": [
    "from collections import Counter\n",
    "\n",
    "# Obtener las etiquetas de las imágenes\n",
    "labels = generador_val.classes\n",
    "\n",
    "# Contar la cantidad de imágenes por clase\n",
    "num_images_per_class = Counter(labels)\n",
    "\n",
    "# Imprimir la cantidad de imágenes por clase\n",
    "for class_name, count in num_images_per_class.items():\n",
    "    print(f\"Clase '{class_name}': {count} imágenes\")\n"
   ]
  },
  {
   "cell_type": "code",
   "execution_count": null,
   "metadata": {
    "colab": {
     "base_uri": "https://localhost:8080/"
    },
    "id": "y1FTiPuxl5hh",
    "outputId": "ee95c880-8381-492a-cdd1-fe9b177bc362"
   },
   "outputs": [],
   "source": [
    "# crear un objeto ImageDataGenerator\n",
    "datagen = ImageDataGenerator(rescale=1./255)\n",
    "\n",
    "# crear generador de imágenes y etiquetas\n",
    "generador_test = datagen.flow_from_dataframe(\n",
    "    dataframe=df_test,                           # dataframe con las etiquetas\n",
    "    directory=ruta_directorio_test,             # carpeta con las imágenes\n",
    "    x_col=\"image_zip\",                      # columna del dataframe con los nombres de las imágenes\n",
    "    y_col=\"cancer\",                         # columna del dataframe con las etiquetas\n",
    "    target_size=(180, 180),                 # tamaño de las imágenes\n",
    "    class_mode=\"binary\",                    # tipo de etiquetas\n",
    "    batch_size= 256,                        # tamaño del lote (batch)\n",
    "    smart_resize = True\n",
    ")\n"
   ]
  },
  {
   "cell_type": "code",
   "execution_count": null,
   "metadata": {
    "colab": {
     "base_uri": "https://localhost:8080/"
    },
    "id": "oW9ccaf1l5hh",
    "outputId": "55cf62b1-5aa2-4ae4-e8b0-30dc6c6b01a2"
   },
   "outputs": [],
   "source": [
    "from collections import Counter\n",
    "\n",
    "# Obtener las etiquetas de las imágenes\n",
    "labels = generador_test.classes\n",
    "\n",
    "# Contar la cantidad de imágenes por clase\n",
    "num_images_per_class = Counter(labels)\n",
    "\n",
    "# Imprimir la cantidad de imágenes por clase\n",
    "for class_name, count in num_images_per_class.items():\n",
    "    print(f\"Clase '{class_name}': {count} imágenes\")\n"
   ]
  },
  {
   "cell_type": "markdown",
   "metadata": {
    "id": "_8H7LtlyS3LP"
   },
   "source": [
    "# MODELO BÁSICO CAPAS DENSAS"
   ]
  },
  {
   "cell_type": "code",
   "execution_count": null,
   "metadata": {
    "id": "Oxwp5Tb9p0nw"
   },
   "outputs": [],
   "source": [
    "from tensorflow import keras\n",
    "from tensorflow.keras import layers\n"
   ]
  },
  {
   "cell_type": "markdown",
   "metadata": {
    "id": "t0iccntnpx6M"
   },
   "source": [
    "Separando imagenes de etiquetas"
   ]
  },
  {
   "cell_type": "code",
   "execution_count": null,
   "metadata": {
    "id": "ccdqpXhFXL3u"
   },
   "outputs": [],
   "source": [
    "# TensorFlow y tf.keras\n",
    "import tensorflow as tf\n",
    "from tensorflow import keras\n",
    "\n",
    "# Librerias de ayuda\n",
    "import numpy as np\n",
    "import matplotlib.pyplot as plt"
   ]
  },
  {
   "cell_type": "code",
   "execution_count": null,
   "metadata": {
    "colab": {
     "base_uri": "https://localhost:8080/"
    },
    "id": "i22JvmB6Cvtc",
    "outputId": "e2024b3e-270a-48a9-9aba-21245a3a52bf"
   },
   "outputs": [],
   "source": [
    "# Obtener imágenes y etiquetas del generador de prueba\n",
    "imagenes_train = []\n",
    "etiquetas_train = []\n",
    "\n",
    "for i in range(len(generador)):\n",
    "    batch_imagenes, batch_etiquetas = generador[i]\n",
    "    imagenes_train.extend(batch_imagenes)\n",
    "    etiquetas_train.extend(batch_etiquetas)\n",
    "\n",
    "# Convertir a numpy arrays\n",
    "imagenes_train = np.array(imagenes_train)\n",
    "etiquetas_train = np.array(etiquetas_train)\n",
    "\n",
    "# Verificar las formas de los arrays resultantes\n",
    "print(\"Forma de imágenes de prueba:\", imagenes_train.shape)\n",
    "print(\"Forma de etiquetas de prueba:\", etiquetas_train.shape)\n",
    "\n"
   ]
  },
  {
   "cell_type": "code",
   "execution_count": null,
   "metadata": {
    "colab": {
     "base_uri": "https://localhost:8080/"
    },
    "id": "Tckzy4m2Yqss",
    "outputId": "884059fb-d438-415b-97f1-d6eabc13bbec"
   },
   "outputs": [],
   "source": [
    "# Obtener imágenes y etiquetas del generador de prueba\n",
    "imagenes_val= []\n",
    "etiquetas_val = []\n",
    "\n",
    "for i in range(len(generador_val)):\n",
    "    batch_imagenes, batch_etiquetas = generador_val[i]\n",
    "    imagenes_val.extend(batch_imagenes)\n",
    "    etiquetas_val.extend(batch_etiquetas)\n",
    "\n",
    "# Convertir a numpy arrays\n",
    "imagenes_val = np.array(imagenes_val)\n",
    "etiquetas_val = np.array(etiquetas_val)\n",
    "\n",
    "# Verificar las formas de los arrays resultantes\n",
    "print(len(imagenes_val))\n",
    "print(len(etiquetas_val))"
   ]
  },
  {
   "cell_type": "code",
   "execution_count": null,
   "metadata": {
    "id": "ppDbDiLVS7Eh"
   },
   "outputs": [],
   "source": [
    "model = keras.Sequential([\n",
    "    keras.layers.Flatten(input_shape=(180, 180, 3)),\n",
    "    keras.layers.Dense(256, activation='relu'),\n",
    "    keras.layers.Dense(1, activation='sigmoid')\n",
    "])"
   ]
  },
  {
   "cell_type": "code",
   "execution_count": null,
   "metadata": {
    "id": "wMBrBL8PXZ4c"
   },
   "outputs": [],
   "source": [
    "model.compile(optimizer='adam',\n",
    "              loss='binary_crossentropy',\n",
    "              metrics=['accuracy'])"
   ]
  },
  {
   "cell_type": "code",
   "execution_count": null,
   "metadata": {
    "colab": {
     "base_uri": "https://localhost:8080/"
    },
    "id": "efUiYH4xTHjL",
    "outputId": "69257b8e-be88-45ff-f790-007334ebbae1"
   },
   "outputs": [],
   "source": [
    "history= model.fit(imagenes_train, etiquetas_train, epochs=20, validation_data= (imagenes_val, etiquetas_val))"
   ]
  },
  {
   "cell_type": "code",
   "execution_count": null,
   "metadata": {
    "colab": {
     "base_uri": "https://localhost:8080/",
     "height": 889
    },
    "id": "5cOIwzXYYWRR",
    "outputId": "d87d100c-b92e-47e2-9f57-af1a9a5fa5ae"
   },
   "outputs": [],
   "source": [
    "import matplotlib.pyplot as plt\n",
    "accuracy = history.history[\"accuracy\"]\n",
    "val_accuracy = history.history[\"val_accuracy\"]\n",
    "loss = history.history[\"loss\"]\n",
    "val_loss = history.history[\"val_loss\"]\n",
    "epochs = range(1, len(accuracy) + 1)\n",
    "plt.plot(epochs, accuracy, \"g\", label=\"Precisión de Entrenamiento\")\n",
    "plt.plot(epochs, val_accuracy, \"b\", label=\"Precisión de Validación\")\n",
    "plt.title(\"Precisión de Entrenamiento y Validación\")\n",
    "plt.legend()\n",
    "plt.figure()\n",
    "plt.plot(epochs, loss, \"g\", label=\"Pérdida de Entrenamiento\")\n",
    "plt.plot(epochs, val_loss, \"b\", label=\"Pérdida de Validación\")\n",
    "plt.title(\"Pérdida de Entrenamiento y Validación\")\n",
    "plt.legend()\n",
    "plt.show()"
   ]
  },
  {
   "cell_type": "code",
   "execution_count": null,
   "metadata": {
    "colab": {
     "base_uri": "https://localhost:8080/"
    },
    "id": "9nkqMZvM0AWn",
    "outputId": "6f9101ad-d361-4adc-ef74-3cb069c44427"
   },
   "outputs": [],
   "source": [
    "# Obtener imágenes y etiquetas del generador de prueba\n",
    "imagenes_test= []\n",
    "etiquetas_test = []\n",
    "\n",
    "for i in range(len(generador_test)):\n",
    "    batch_imagenes, batch_etiquetas = generador_test[i]\n",
    "    imagenes_test.extend(batch_imagenes)\n",
    "    etiquetas_test.extend(batch_etiquetas)\n",
    "\n",
    "# Convertir a numpy arrays\n",
    "imagenes_test = np.array(imagenes_test)\n",
    "etiquetas_test = np.array(etiquetas_test)\n",
    "\n",
    "# Verificar las formas de los arrays resultantes\n",
    "print(len(imagenes_test))\n",
    "print(len(etiquetas_test))"
   ]
  },
  {
   "cell_type": "code",
   "execution_count": null,
   "metadata": {
    "colab": {
     "base_uri": "https://localhost:8080/"
    },
    "id": "1E5FwSE21ljW",
    "outputId": "b6175971-d552-41bc-f03f-f5666285eac5"
   },
   "outputs": [],
   "source": [
    "len(etiquetas_test)"
   ]
  },
  {
   "cell_type": "code",
   "execution_count": null,
   "metadata": {
    "colab": {
     "base_uri": "https://localhost:8080/"
    },
    "id": "WayVvLb4veMX",
    "outputId": "69f23115-720a-41f0-a34c-43044f5d24b3"
   },
   "outputs": [],
   "source": [
    "from sklearn.metrics import confusion_matrix\n",
    "import numpy as np\n",
    "\n",
    "# generar predicciones en el conjunto de prueba\n",
    "y_pred = model.predict_generator(imagenes_test)\n",
    "\n",
    "# convertir las predicciones en etiquetas de clase\n",
    "y_pred_classes = np.argmax(y_pred, axis=1)\n",
    "\n",
    "# obtener las etiquetas reales\n",
    "y_true = etiquetas_test\n",
    "\n",
    "# calcular la matriz de confusión\n",
    "cm = confusion_matrix(y_true, y_pred_classes)\n",
    "print(cm)"
   ]
  },
  {
   "cell_type": "code",
   "execution_count": null,
   "metadata": {
    "colab": {
     "base_uri": "https://localhost:8080/",
     "height": 487
    },
    "id": "R6K2lwLJOz8-",
    "outputId": "41e5c251-8ac2-4fa9-d762-3eff3ee2c3ea"
   },
   "outputs": [],
   "source": [
    "import numpy as np\n",
    "import matplotlib.pyplot as plt\n",
    "from sklearn.metrics import confusion_matrix\n",
    "\n",
    "# Definir las etiquetas de las clases\n",
    "labels = ['Clase 0', 'Clase 1']\n",
    "\n",
    "# Graficar la matriz de confusión\n",
    "fig, ax = plt.subplots()\n",
    "im = ax.imshow(cm, interpolation='nearest', cmap='Blues')\n",
    "ax.figure.colorbar(im, ax=ax)\n",
    "ax.set(xticks=np.arange(cm.shape[1]),\n",
    "       yticks=np.arange(cm.shape[0]),\n",
    "       xticklabels=labels,\n",
    "       yticklabels=labels,\n",
    "       title='Matriz de Confusión',\n",
    "       ylabel='Etiqueta Real',\n",
    "       xlabel='Etiqueta Predicha')\n",
    "\n",
    "# Rotar las etiquetas del eje x\n",
    "plt.setp(ax.get_xticklabels(), rotation=45, ha=\"right\",\n",
    "         rotation_mode=\"anchor\")\n",
    "\n",
    "# Anotar los valores en la matriz\n",
    "for i in range(cm.shape[0]):\n",
    "    for j in range(cm.shape[1]):\n",
    "        ax.text(j, i, format(cm[i, j], 'd'),\n",
    "                ha=\"center\", va=\"center\", color=\"white\")\n",
    "\n",
    "# Ajustar el diseño de la figura\n",
    "fig.tight_layout()\n",
    "\n",
    "# Mostrar la figura\n",
    "plt.show()\n"
   ]
  },
  {
   "cell_type": "code",
   "execution_count": null,
   "metadata": {
    "id": "ehaem5B900t5"
   },
   "outputs": [],
   "source": [
    "import numpy as np\n",
    "import matplotlib.pyplot as plt\n",
    "from sklearn.metrics import confusion_matrix, roc_curve, roc_auc_score\n"
   ]
  },
  {
   "cell_type": "code",
   "execution_count": null,
   "metadata": {
    "id": "0jWpwE2o0rtr"
   },
   "outputs": [],
   "source": [
    "fpr, tpr, thresholds = roc_curve(y_true, y_pred)\n",
    "auc = roc_auc_score(y_true, y_pred)\n"
   ]
  },
  {
   "cell_type": "code",
   "execution_count": null,
   "metadata": {
    "colab": {
     "base_uri": "https://localhost:8080/",
     "height": 718
    },
    "id": "9qWHUBnN04ug",
    "outputId": "940c322a-118f-44b8-ff40-59a89c056b16"
   },
   "outputs": [],
   "source": [
    "plt.figure(figsize=(8, 8))\n",
    "plt.plot(fpr, tpr, label='Curva ROC (AUC = {:.2f})'.format(auc))\n",
    "plt.plot([0, 1], [0, 1], 'k--')  # Línea diagonal (sin información)\n",
    "plt.xlim([0.0, 1.0])\n",
    "plt.ylim([0.0, 1.05])\n",
    "plt.xlabel('Tasa de falsos positivos')\n",
    "plt.ylabel('Tasa de verdaderos positivos')\n",
    "plt.title('Curva ROC')\n",
    "plt.legend(loc='lower right')\n",
    "plt.show()\n"
   ]
  },
  {
   "cell_type": "code",
   "execution_count": null,
   "metadata": {
    "colab": {
     "base_uri": "https://localhost:8080/"
    },
    "id": "CmSa_wIj1Jy3",
    "outputId": "d07eb296-e5bc-477f-962e-5e44a3feef1e"
   },
   "outputs": [],
   "source": [
    "#aplicamos umbral\n",
    "import numpy as np\n",
    "\n",
    "\n",
    "# Obtener las predicciones continuas del modelo\n",
    "predicciones_continuas = model.predict(imagenes_test)\n",
    "\n",
    "# Aplicar el umbral\n",
    "umbral = 0.5\n",
    "predicciones_binarias = (predicciones_continuas >= umbral).astype(np.int)"
   ]
  },
  {
   "cell_type": "code",
   "execution_count": null,
   "metadata": {
    "colab": {
     "base_uri": "https://localhost:8080/"
    },
    "id": "Sr4G8BWI1Zuk",
    "outputId": "fefd9fab-663f-4bda-ba4b-019bf1222fc6"
   },
   "outputs": [],
   "source": [
    "print(len(predicciones_binarias))\n",
    "print(len(y_true))"
   ]
  },
  {
   "cell_type": "code",
   "execution_count": null,
   "metadata": {
    "colab": {
     "base_uri": "https://localhost:8080/"
    },
    "id": "P6In3ig41QRh",
    "outputId": "c6b4bfa8-5c72-40dd-b7a6-9f1f3e20147e"
   },
   "outputs": [],
   "source": [
    "from sklearn.metrics import confusion_matrix\n",
    "import numpy as np\n",
    "\n",
    "\n",
    "\n",
    "# calcular la matriz de confusión\n",
    "cm = confusion_matrix(etiquetas_test, predicciones_binarias)\n",
    "print(cm)"
   ]
  },
  {
   "cell_type": "markdown",
   "metadata": {
    "id": "Kf1cD8V2mXwC"
   },
   "source": [
    "# MODELO BASICO CNN"
   ]
  },
  {
   "cell_type": "code",
   "execution_count": null,
   "metadata": {
    "execution": {
     "iopub.execute_input": "2023-04-29T09:24:11.494398Z",
     "iopub.status.busy": "2023-04-29T09:24:11.493707Z",
     "iopub.status.idle": "2023-04-29T09:24:13.650721Z",
     "shell.execute_reply": "2023-04-29T09:24:13.649687Z",
     "shell.execute_reply.started": "2023-04-29T09:24:11.494360Z"
    },
    "id": "_rlGtx2TmXwE"
   },
   "outputs": [],
   "source": [
    "from tensorflow import keras\n",
    "from tensorflow.keras import layers\n",
    "\n",
    "# El modelo espera imágenes RGB de tamaño 180 × 180\n",
    "inputs = keras.Input(shape=(180, 180, 3))\n",
    "# Reescala las entradas al rango [0, 1] dividiéndolas por 255\n",
    "x = layers.Rescaling(1./255)(inputs)\n",
    "x = layers.Conv2D(filters=4, kernel_size=3, activation=\"relu\")(x)\n",
    "x = layers.MaxPooling2D(pool_size=2)(x)\n",
    "x = layers.Conv2D(filters=4, kernel_size=3, activation=\"relu\")(x)\n",
    "\n",
    "x = layers.Flatten()(x)\n",
    "x = layers.Dropout(0.5)(x)\n",
    "outputs = layers.Dense(1, activation=\"sigmoid\")(x)\n",
    "model = keras.Model(inputs=inputs, outputs=outputs)"
   ]
  },
  {
   "cell_type": "code",
   "execution_count": null,
   "metadata": {
    "colab": {
     "base_uri": "https://localhost:8080/"
    },
    "execution": {
     "iopub.execute_input": "2023-04-29T09:24:25.964512Z",
     "iopub.status.busy": "2023-04-29T09:24:25.963996Z",
     "iopub.status.idle": "2023-04-29T09:24:26.024567Z",
     "shell.execute_reply": "2023-04-29T09:24:26.023770Z",
     "shell.execute_reply.started": "2023-04-29T09:24:25.964468Z"
    },
    "id": "WwOCO2qMmXwE",
    "outputId": "217ebf50-4e84-4142-f3a7-04ade8648669"
   },
   "outputs": [],
   "source": [
    "model.summary()"
   ]
  },
  {
   "cell_type": "code",
   "execution_count": null,
   "metadata": {
    "id": "zPzOKGpRmXwF"
   },
   "outputs": [],
   "source": [
    "model.compile(loss=\"binary_crossentropy\",\n",
    "              optimizer=\"adam\",\n",
    "              metrics=[\"accuracy\"])"
   ]
  },
  {
   "cell_type": "code",
   "execution_count": null,
   "metadata": {
    "id": "mLrkw8FamXwF"
   },
   "outputs": [],
   "source": [
    "callbacks = [\n",
    "    keras.callbacks.ModelCheckpoint(\n",
    "        # Ruta específica donde guardar el fichero\n",
    "        filepath=\"convnet_from_scratch.keras\",\n",
    "        # Las dos líneas siguientes, le dice al callback que solo guarde un \n",
    "        # nuevo archivo (sobrescribiendo cualquier anterior) cuando el valor \n",
    "        # actual de la métrica val_loss sea menor que en cualquier momento \n",
    "        # anterior durante el entrenamiento.\n",
    "        save_best_only=True,\n",
    "        monitor=\"val_loss\")\n",
    "]"
   ]
  },
  {
   "cell_type": "code",
   "execution_count": null,
   "metadata": {
    "colab": {
     "base_uri": "https://localhost:8080/"
    },
    "id": "tPTj6THTmXwG",
    "outputId": "5aa6546c-7cab-4df3-c702-2f28a05c2f8c"
   },
   "outputs": [],
   "source": [
    "history = model.fit(\n",
    "    generador,\n",
    "    epochs=20,\n",
    "    batch_size= 32,\n",
    "    validation_data=generador_val,\n",
    "   callbacks=callbacks\n",
    "   )"
   ]
  },
  {
   "cell_type": "code",
   "execution_count": null,
   "metadata": {
    "colab": {
     "base_uri": "https://localhost:8080/",
     "height": 889
    },
    "id": "yohbfOZgmXwG",
    "outputId": "bb721ae4-6985-48c9-df66-83abf9baa293"
   },
   "outputs": [],
   "source": [
    "import matplotlib.pyplot as plt\n",
    "accuracy = history.history[\"accuracy\"]\n",
    "val_accuracy = history.history[\"val_accuracy\"]\n",
    "loss = history.history[\"loss\"]\n",
    "val_loss = history.history[\"val_loss\"]\n",
    "epochs = range(1, len(accuracy) + 1)\n",
    "plt.plot(epochs, accuracy, \"g\", label=\"Precisión de Entrenamiento\")\n",
    "plt.plot(epochs, val_accuracy, \"b\", label=\"Precisión de Validación\")\n",
    "plt.title(\"Precisión de Entrenamiento y Validación\")\n",
    "plt.legend()\n",
    "plt.figure()\n",
    "plt.plot(epochs, loss, \"g\", label=\"Pérdida de Entrenamiento\")\n",
    "plt.plot(epochs, val_loss, \"b\", label=\"Pérdida de Validación\")\n",
    "plt.title(\"Pérdida de Entrenamiento y Validación\")\n",
    "plt.legend()\n",
    "plt.show()"
   ]
  },
  {
   "cell_type": "code",
   "execution_count": null,
   "metadata": {
    "colab": {
     "base_uri": "https://localhost:8080/"
    },
    "id": "it-mHJDSmXwH",
    "outputId": "7f9c8c87-b274-4dab-f532-fced4ed04782"
   },
   "outputs": [],
   "source": [
    "from sklearn.metrics import confusion_matrix\n",
    "import numpy as np\n",
    "\n",
    "# generar predicciones en el conjunto de prueba\n",
    "y_pred = model.predict_generator(generador_test)\n",
    "\n",
    "# convertir las predicciones en etiquetas de clase\n",
    "y_pred_classes = np.argmax(y_pred, axis=1)\n",
    "\n",
    "# obtener las etiquetas reales\n",
    "y_true = generador_test.classes\n",
    "\n",
    "# calcular la matriz de confusión\n",
    "cm = confusion_matrix(y_true, y_pred_classes)\n",
    "print(cm)"
   ]
  },
  {
   "cell_type": "markdown",
   "metadata": {
    "id": "3mTVbRGJmXwI"
   },
   "source": [
    "**CURVA ROC**"
   ]
  },
  {
   "cell_type": "code",
   "execution_count": null,
   "metadata": {
    "colab": {
     "base_uri": "https://localhost:8080/",
     "height": 472
    },
    "id": "FRghDODjmXwI",
    "outputId": "980a0d35-d71a-4616-9bd0-fbbe6509eae9"
   },
   "outputs": [],
   "source": [
    "from sklearn.metrics import roc_curve\n",
    "import matplotlib.pyplot as plt\n",
    "\n",
    "\n",
    "# Calcula la curva ROC\n",
    "fpr, tpr, thresholds = roc_curve(y_true, y_pred)\n",
    "\n",
    "# Grafica la curva ROC\n",
    "plt.plot(fpr, tpr)\n",
    "plt.xlabel('False Positive Rate')\n",
    "plt.ylabel('True Positive Rate')\n",
    "plt.title('Curva ROC')\n",
    "plt.show()\n"
   ]
  },
  {
   "cell_type": "code",
   "execution_count": null,
   "metadata": {
    "colab": {
     "base_uri": "https://localhost:8080/"
    },
    "id": "PanFNvrfqZQt",
    "outputId": "fe3d139c-6b95-4b6e-c7b0-3b95d8f53651"
   },
   "outputs": [],
   "source": [
    "import numpy as np\n",
    "from sklearn.metrics import precision_score\n",
    "\n",
    "\n",
    "\n",
    "# Definir el rango de umbrales y el incremento\n",
    "umbral_inicio = 0\n",
    "umbral_fin = 1\n",
    "incremento = 0.01\n",
    "\n",
    "# Inicializar las listas para almacenar los umbrales y las precisiones\n",
    "umbrales = []\n",
    "precisiones = []\n",
    "\n",
    "# Probar diferentes umbrales y calcular la precisión para cada uno\n",
    "for umbral in np.arange(umbral_inicio, umbral_fin + incremento, incremento):\n",
    "    y_pred_binario = (y_pred >= umbral).astype(int)\n",
    "    precision = precision_score(y_true, y_pred_binario)\n",
    "    \n",
    "    umbrales.append(umbral)\n",
    "    precisiones.append(precision)\n",
    "\n",
    "# Imprimir los umbrales y las precisiones correspondientes\n",
    "for umbral, precision in zip(umbrales, precisiones):\n",
    "    print(f\"Umbral: {umbral:.2f} - Precisión: {precision:.2f}\")\n"
   ]
  },
  {
   "cell_type": "code",
   "execution_count": null,
   "metadata": {
    "colab": {
     "base_uri": "https://localhost:8080/"
    },
    "id": "51BKxPiKqkRK",
    "outputId": "fcb2b4f1-ae81-48e5-f18f-05cbc0d80775"
   },
   "outputs": [],
   "source": [
    "print(max(precisiones))\n",
    "#Umbral: 0.48 - Precisión: 0.49"
   ]
  },
  {
   "cell_type": "code",
   "execution_count": null,
   "metadata": {
    "colab": {
     "base_uri": "https://localhost:8080/"
    },
    "id": "EynVh1kAqx5L",
    "outputId": "236811f3-3c10-48a2-adcf-7eecaa13a2c6"
   },
   "outputs": [],
   "source": [
    "#aplicamos umbral\n",
    "import numpy as np\n",
    "\n",
    "\n",
    "# Obtener las predicciones continuas del modelo\n",
    "predicciones_continuas = model.predict(generador_test)\n",
    "\n",
    "# Aplicar el umbral\n",
    "umbral = 0.51\n",
    "predicciones_binarias = (predicciones_continuas >= umbral).astype(np.int)"
   ]
  },
  {
   "cell_type": "code",
   "execution_count": null,
   "metadata": {
    "colab": {
     "base_uri": "https://localhost:8080/"
    },
    "id": "f3j-Gz-Bq7HD",
    "outputId": "199b538e-b60b-48c0-f815-e2effe9d0a1b"
   },
   "outputs": [],
   "source": [
    "from sklearn.metrics import confusion_matrix\n",
    "import numpy as np\n",
    "\n",
    "# obtener las etiquetas reales\n",
    "y_true = generador_test.classes\n",
    "\n",
    "# calcular la matriz de confusión\n",
    "cm = confusion_matrix(y_true, predicciones_binarias)\n",
    "print(cm)"
   ]
  },
  {
   "cell_type": "markdown",
   "metadata": {
    "id": "JryMjgbVrAD5"
   },
   "source": [
    "# Data augmentation"
   ]
  },
  {
   "cell_type": "code",
   "execution_count": null,
   "metadata": {
    "id": "tcJEv5c8q_0A"
   },
   "outputs": [],
   "source": [
    "data_augmentation = keras.Sequential(\n",
    "    [\n",
    "        # Aplica volteo horizontal a un 50 % aleatorio \n",
    "        # de las imágenes que lo atraviesan\n",
    "        layers.RandomFlip(\"horizontal\"),\n",
    "        # Rota las imágenes de entrada en un valor aleatorio en el\n",
    "        # rango [–10%, +10%] (estas son fracciones de un círculo completo;\n",
    "        # en grados, el rango sería [–36 grados, +36 grados])\n",
    "        layers.RandomRotation(0.1),\n",
    "        # Acerca o aleja la imagen por un factor \n",
    "        # aleatorio en el rango [-20%, +20%]\n",
    "        layers.RandomZoom(0.2),\n",
    "    ]\n",
    ")"
   ]
  },
  {
   "cell_type": "markdown",
   "metadata": {
    "id": "bUwjz8nsHX3J"
   },
   "source": [
    "Modelo con aumento de datos"
   ]
  },
  {
   "cell_type": "code",
   "execution_count": null,
   "metadata": {
    "id": "1bBezvPFHWqY"
   },
   "outputs": [],
   "source": [
    "inputs = keras.Input(shape=(180, 180, 3))\n",
    "x = data_augmentation(inputs)\n",
    "x = layers.Rescaling(1./255)(x)\n",
    "x = layers.Conv2D(filters=32, kernel_size=3, activation=\"relu\")(x)\n",
    "x = layers.MaxPooling2D(pool_size=2)(x)\n",
    "x = layers.Conv2D(filters=64, kernel_size=3, activation=\"relu\")(x)\n",
    "x = layers.MaxPooling2D(pool_size=2)(x)\n",
    "x = layers.Conv2D(filters=128, kernel_size=3, activation=\"relu\")(x)\n",
    "x = layers.MaxPooling2D(pool_size=2)(x)\n",
    "x = layers.Conv2D(filters=128, kernel_size=3, activation=\"relu\")(x)\n",
    "\n",
    "x = layers.Flatten()(x)\n",
    "x = layers.Dropout(0.5)(x)\n",
    "outputs = layers.Dense(1, activation=\"sigmoid\")(x)\n",
    "model = keras.Model(inputs=inputs, outputs=outputs)\n",
    "\n",
    "model.compile(loss=\"binary_crossentropy\",\n",
    "              optimizer=\"rmsprop\",\n",
    "              metrics=[\"accuracy\"])"
   ]
  },
  {
   "cell_type": "code",
   "execution_count": null,
   "metadata": {
    "colab": {
     "base_uri": "https://localhost:8080/",
     "height": 643
    },
    "id": "ZwtwYPHwHfs-",
    "outputId": "2ad8383e-9e3f-4703-cac6-ffe19731e706"
   },
   "outputs": [],
   "source": [
    "callbacks = [\n",
    "    keras.callbacks.ModelCheckpoint(\n",
    "        filepath=\"convnet_from_scratch_with_augmentation.keras\",\n",
    "        save_best_only=True,\n",
    "        monitor=\"val_loss\")\n",
    "]\n",
    "history = model.fit(\n",
    "    generador,\n",
    "    epochs=30,\n",
    "    validation_data=generador_val,\n",
    "    callbacks=callbacks)"
   ]
  },
  {
   "cell_type": "code",
   "execution_count": null,
   "metadata": {
    "colab": {
     "base_uri": "https://localhost:8080/"
    },
    "id": "_jnjUTlz_WgS",
    "outputId": "8f7d38cf-5a2f-4dbb-816e-7af4506f582d"
   },
   "outputs": [],
   "source": [
    "from sklearn.metrics import confusion_matrix\n",
    "import numpy as np\n",
    "\n",
    "# generar predicciones en el conjunto de prueba\n",
    "y_pred = model.predict_generator(imagenes_test)\n",
    "\n",
    "# convertir las predicciones en etiquetas de clase\n",
    "y_pred_classes = np.argmax(y_pred, axis=1)\n",
    "\n",
    "# obtener las etiquetas reales\n",
    "y_true = etiquetas_test\n",
    "\n",
    "# calcular la matriz de confusión\n",
    "cm = confusion_matrix(y_true, y_pred_classes)\n",
    "print(cm)"
   ]
  },
  {
   "cell_type": "code",
   "execution_count": null,
   "metadata": {
    "id": "iiP3f7AN_cqH"
   },
   "outputs": [],
   "source": [
    "fpr, tpr, thresholds = roc_curve(y_true, y_pred)\n",
    "auc = roc_auc_score(y_true, y_pred)\n"
   ]
  },
  {
   "cell_type": "code",
   "execution_count": null,
   "metadata": {
    "colab": {
     "base_uri": "https://localhost:8080/",
     "height": 718
    },
    "id": "8VqfR0VN_gfY",
    "outputId": "ed64ad6f-1bc3-4ff0-c61e-3d9615c3b69a"
   },
   "outputs": [],
   "source": [
    "plt.figure(figsize=(8, 8))\n",
    "plt.plot(fpr, tpr, label='Curva ROC (AUC = {:.2f})'.format(auc))\n",
    "plt.plot([0, 1], [0, 1], 'k--')  # Línea diagonal (sin información)\n",
    "plt.xlim([0.0, 1.0])\n",
    "plt.ylim([0.0, 1.05])\n",
    "plt.xlabel('Tasa de falsos positivos')\n",
    "plt.ylabel('Tasa de verdaderos positivos')\n",
    "plt.title('Curva ROC')\n",
    "plt.legend(loc='lower right')\n",
    "plt.show()"
   ]
  }
 ],
 "metadata": {
  "accelerator": "GPU",
  "colab": {
   "collapsed_sections": [
    "ULRAhvh5cdC2",
    "mtEHa0bYhsn7",
    "E5G4k_1Ll5hI",
    "_8H7LtlyS3LP",
    "Kf1cD8V2mXwC"
   ],
   "gpuType": "T4",
   "machine_shape": "hm",
   "provenance": []
  },
  "kernelspec": {
   "display_name": "Python 3",
   "language": "python",
   "name": "python3"
  },
  "language_info": {
   "codemirror_mode": {
    "name": "ipython",
    "version": 3
   },
   "file_extension": ".py",
   "mimetype": "text/x-python",
   "name": "python",
   "nbconvert_exporter": "python",
   "pygments_lexer": "ipython3",
   "version": "3.8.5"
  }
 },
 "nbformat": 4,
 "nbformat_minor": 1
}
